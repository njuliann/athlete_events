{
 "cells": [
  {
   "cell_type": "markdown",
   "metadata": {},
   "source": [
    "# Analsying the Athletes_Data dataset"
   ]
  },
  {
   "cell_type": "markdown",
   "metadata": {},
   "source": [
    "## Importing all the stuff"
   ]
  },
  {
   "cell_type": "markdown",
   "metadata": {
    "vscode": {
     "languageId": "plaintext"
    }
   },
   "source": [
    "### Importing necessary packages"
   ]
  },
  {
   "cell_type": "code",
   "execution_count": 1,
   "metadata": {},
   "outputs": [],
   "source": [
    "import pandas as pd\n",
    "import numpy as np\n",
    "import matplotlib.pyplot as plt\n",
    "import seaborn as sns\n",
    "import statistics\n",
    "import warnings\n",
    "warnings.filterwarnings(\"ignore\")\n"
   ]
  },
  {
   "cell_type": "code",
   "execution_count": 2,
   "metadata": {},
   "outputs": [],
   "source": [
    "plt.style.use('ggplot')"
   ]
  },
  {
   "cell_type": "markdown",
   "metadata": {},
   "source": [
    "### Importing the dataset from github repository"
   ]
  },
  {
   "cell_type": "code",
   "execution_count": 3,
   "metadata": {},
   "outputs": [],
   "source": [
    "df = pd.read_csv(\"https://raw.githubusercontent.com/njuliann/athlete_events/refs/heads/main/athlete_events.csv\")\n"
   ]
  },
  {
   "cell_type": "markdown",
   "metadata": {},
   "source": [
    "### Copy dataset and sort it by years"
   ]
  },
  {
   "cell_type": "markdown",
   "metadata": {},
   "source": [
    "Taking the copied dataset and sort the entries by year. This has the purpose to make a visualisation of missing values by column and therefore to see whether there is a significant amount of missing data in for example early years. "
   ]
  },
  {
   "cell_type": "code",
   "execution_count": 4,
   "metadata": {},
   "outputs": [],
   "source": [
    "df_to_sort_by_year = df.copy()\n",
    "df_to_sort_by_year.sort_values(by='Year', inplace=True)"
   ]
  },
  {
   "cell_type": "markdown",
   "metadata": {},
   "source": [
    "Checking the shape of the dataset to see whether the import has worked successfully"
   ]
  },
  {
   "cell_type": "code",
   "execution_count": 5,
   "metadata": {},
   "outputs": [
    {
     "data": {
      "text/plain": [
       "[True]"
      ]
     },
     "execution_count": 5,
     "metadata": {},
     "output_type": "execute_result"
    }
   ],
   "source": [
    "[True if df.shape == (271116, 15) else False]"
   ]
  },
  {
   "cell_type": "markdown",
   "metadata": {},
   "source": [
    "## Getting a quick overview about the dataset"
   ]
  },
  {
   "cell_type": "code",
   "execution_count": 6,
   "metadata": {},
   "outputs": [
    {
     "name": "stdout",
     "output_type": "stream",
     "text": [
      "<class 'pandas.core.frame.DataFrame'>\n",
      "RangeIndex: 271116 entries, 0 to 271115\n",
      "Data columns (total 15 columns):\n",
      " #   Column  Non-Null Count   Dtype  \n",
      "---  ------  --------------   -----  \n",
      " 0   ID      271116 non-null  int64  \n",
      " 1   Name    271116 non-null  object \n",
      " 2   Sex     271116 non-null  object \n",
      " 3   Age     261642 non-null  float64\n",
      " 4   Height  210945 non-null  float64\n",
      " 5   Weight  208241 non-null  float64\n",
      " 6   Team    271116 non-null  object \n",
      " 7   NOC     271116 non-null  object \n",
      " 8   Games   271116 non-null  object \n",
      " 9   Year    271116 non-null  int64  \n",
      " 10  Season  271116 non-null  object \n",
      " 11  City    271116 non-null  object \n",
      " 12  Sport   271116 non-null  object \n",
      " 13  Event   271116 non-null  object \n",
      " 14  Medal   39783 non-null   object \n",
      "dtypes: float64(3), int64(2), object(10)\n",
      "memory usage: 31.0+ MB\n"
     ]
    }
   ],
   "source": [
    "df.info()"
   ]
  },
  {
   "cell_type": "code",
   "execution_count": 7,
   "metadata": {},
   "outputs": [
    {
     "data": {
      "application/vnd.microsoft.datawrangler.viewer.v0+json": {
       "columns": [
        {
         "name": "index",
         "rawType": "int64",
         "type": "integer"
        },
        {
         "name": "ID",
         "rawType": "int64",
         "type": "integer"
        },
        {
         "name": "Name",
         "rawType": "object",
         "type": "string"
        },
        {
         "name": "Sex",
         "rawType": "object",
         "type": "string"
        },
        {
         "name": "Age",
         "rawType": "float64",
         "type": "float"
        },
        {
         "name": "Height",
         "rawType": "float64",
         "type": "float"
        },
        {
         "name": "Weight",
         "rawType": "float64",
         "type": "float"
        },
        {
         "name": "Team",
         "rawType": "object",
         "type": "string"
        },
        {
         "name": "NOC",
         "rawType": "object",
         "type": "string"
        },
        {
         "name": "Games",
         "rawType": "object",
         "type": "string"
        },
        {
         "name": "Year",
         "rawType": "int64",
         "type": "integer"
        },
        {
         "name": "Season",
         "rawType": "object",
         "type": "string"
        },
        {
         "name": "City",
         "rawType": "object",
         "type": "string"
        },
        {
         "name": "Sport",
         "rawType": "object",
         "type": "string"
        },
        {
         "name": "Event",
         "rawType": "object",
         "type": "string"
        },
        {
         "name": "Medal",
         "rawType": "object",
         "type": "unknown"
        }
       ],
       "conversionMethod": "pd.DataFrame",
       "ref": "edc45dbe-e46f-43cb-9803-0c00ac513f21",
       "rows": [
        [
         "0",
         "1",
         "A Dijiang",
         "M",
         "24.0",
         "180.0",
         "80.0",
         "China",
         "CHN",
         "1992 Summer",
         "1992",
         "Summer",
         "Barcelona",
         "Basketball",
         "Basketball Men's Basketball",
         null
        ],
        [
         "1",
         "2",
         "A Lamusi",
         "M",
         "23.0",
         "170.0",
         "60.0",
         "China",
         "CHN",
         "2012 Summer",
         "2012",
         "Summer",
         "London",
         "Judo",
         "Judo Men's Extra-Lightweight",
         null
        ],
        [
         "2",
         "3",
         "Gunnar Nielsen Aaby",
         "M",
         "24.0",
         null,
         null,
         "Denmark",
         "DEN",
         "1920 Summer",
         "1920",
         "Summer",
         "Antwerpen",
         "Football",
         "Football Men's Football",
         null
        ],
        [
         "3",
         "4",
         "Edgar Lindenau Aabye",
         "M",
         "34.0",
         null,
         null,
         "Denmark/Sweden",
         "DEN",
         "1900 Summer",
         "1900",
         "Summer",
         "Paris",
         "Tug-Of-War",
         "Tug-Of-War Men's Tug-Of-War",
         "Gold"
        ],
        [
         "4",
         "5",
         "Christine Jacoba Aaftink",
         "F",
         "21.0",
         "185.0",
         "82.0",
         "Netherlands",
         "NED",
         "1988 Winter",
         "1988",
         "Winter",
         "Calgary",
         "Speed Skating",
         "Speed Skating Women's 500 metres",
         null
        ]
       ],
       "shape": {
        "columns": 15,
        "rows": 5
       }
      },
      "text/html": [
       "<div>\n",
       "<style scoped>\n",
       "    .dataframe tbody tr th:only-of-type {\n",
       "        vertical-align: middle;\n",
       "    }\n",
       "\n",
       "    .dataframe tbody tr th {\n",
       "        vertical-align: top;\n",
       "    }\n",
       "\n",
       "    .dataframe thead th {\n",
       "        text-align: right;\n",
       "    }\n",
       "</style>\n",
       "<table border=\"1\" class=\"dataframe\">\n",
       "  <thead>\n",
       "    <tr style=\"text-align: right;\">\n",
       "      <th></th>\n",
       "      <th>ID</th>\n",
       "      <th>Name</th>\n",
       "      <th>Sex</th>\n",
       "      <th>Age</th>\n",
       "      <th>Height</th>\n",
       "      <th>Weight</th>\n",
       "      <th>Team</th>\n",
       "      <th>NOC</th>\n",
       "      <th>Games</th>\n",
       "      <th>Year</th>\n",
       "      <th>Season</th>\n",
       "      <th>City</th>\n",
       "      <th>Sport</th>\n",
       "      <th>Event</th>\n",
       "      <th>Medal</th>\n",
       "    </tr>\n",
       "  </thead>\n",
       "  <tbody>\n",
       "    <tr>\n",
       "      <th>0</th>\n",
       "      <td>1</td>\n",
       "      <td>A Dijiang</td>\n",
       "      <td>M</td>\n",
       "      <td>24.0</td>\n",
       "      <td>180.0</td>\n",
       "      <td>80.0</td>\n",
       "      <td>China</td>\n",
       "      <td>CHN</td>\n",
       "      <td>1992 Summer</td>\n",
       "      <td>1992</td>\n",
       "      <td>Summer</td>\n",
       "      <td>Barcelona</td>\n",
       "      <td>Basketball</td>\n",
       "      <td>Basketball Men's Basketball</td>\n",
       "      <td>NaN</td>\n",
       "    </tr>\n",
       "    <tr>\n",
       "      <th>1</th>\n",
       "      <td>2</td>\n",
       "      <td>A Lamusi</td>\n",
       "      <td>M</td>\n",
       "      <td>23.0</td>\n",
       "      <td>170.0</td>\n",
       "      <td>60.0</td>\n",
       "      <td>China</td>\n",
       "      <td>CHN</td>\n",
       "      <td>2012 Summer</td>\n",
       "      <td>2012</td>\n",
       "      <td>Summer</td>\n",
       "      <td>London</td>\n",
       "      <td>Judo</td>\n",
       "      <td>Judo Men's Extra-Lightweight</td>\n",
       "      <td>NaN</td>\n",
       "    </tr>\n",
       "    <tr>\n",
       "      <th>2</th>\n",
       "      <td>3</td>\n",
       "      <td>Gunnar Nielsen Aaby</td>\n",
       "      <td>M</td>\n",
       "      <td>24.0</td>\n",
       "      <td>NaN</td>\n",
       "      <td>NaN</td>\n",
       "      <td>Denmark</td>\n",
       "      <td>DEN</td>\n",
       "      <td>1920 Summer</td>\n",
       "      <td>1920</td>\n",
       "      <td>Summer</td>\n",
       "      <td>Antwerpen</td>\n",
       "      <td>Football</td>\n",
       "      <td>Football Men's Football</td>\n",
       "      <td>NaN</td>\n",
       "    </tr>\n",
       "    <tr>\n",
       "      <th>3</th>\n",
       "      <td>4</td>\n",
       "      <td>Edgar Lindenau Aabye</td>\n",
       "      <td>M</td>\n",
       "      <td>34.0</td>\n",
       "      <td>NaN</td>\n",
       "      <td>NaN</td>\n",
       "      <td>Denmark/Sweden</td>\n",
       "      <td>DEN</td>\n",
       "      <td>1900 Summer</td>\n",
       "      <td>1900</td>\n",
       "      <td>Summer</td>\n",
       "      <td>Paris</td>\n",
       "      <td>Tug-Of-War</td>\n",
       "      <td>Tug-Of-War Men's Tug-Of-War</td>\n",
       "      <td>Gold</td>\n",
       "    </tr>\n",
       "    <tr>\n",
       "      <th>4</th>\n",
       "      <td>5</td>\n",
       "      <td>Christine Jacoba Aaftink</td>\n",
       "      <td>F</td>\n",
       "      <td>21.0</td>\n",
       "      <td>185.0</td>\n",
       "      <td>82.0</td>\n",
       "      <td>Netherlands</td>\n",
       "      <td>NED</td>\n",
       "      <td>1988 Winter</td>\n",
       "      <td>1988</td>\n",
       "      <td>Winter</td>\n",
       "      <td>Calgary</td>\n",
       "      <td>Speed Skating</td>\n",
       "      <td>Speed Skating Women's 500 metres</td>\n",
       "      <td>NaN</td>\n",
       "    </tr>\n",
       "  </tbody>\n",
       "</table>\n",
       "</div>"
      ],
      "text/plain": [
       "   ID                      Name Sex   Age  Height  Weight            Team  \\\n",
       "0   1                 A Dijiang   M  24.0   180.0    80.0           China   \n",
       "1   2                  A Lamusi   M  23.0   170.0    60.0           China   \n",
       "2   3       Gunnar Nielsen Aaby   M  24.0     NaN     NaN         Denmark   \n",
       "3   4      Edgar Lindenau Aabye   M  34.0     NaN     NaN  Denmark/Sweden   \n",
       "4   5  Christine Jacoba Aaftink   F  21.0   185.0    82.0     Netherlands   \n",
       "\n",
       "   NOC        Games  Year  Season       City          Sport  \\\n",
       "0  CHN  1992 Summer  1992  Summer  Barcelona     Basketball   \n",
       "1  CHN  2012 Summer  2012  Summer     London           Judo   \n",
       "2  DEN  1920 Summer  1920  Summer  Antwerpen       Football   \n",
       "3  DEN  1900 Summer  1900  Summer      Paris     Tug-Of-War   \n",
       "4  NED  1988 Winter  1988  Winter    Calgary  Speed Skating   \n",
       "\n",
       "                              Event Medal  \n",
       "0       Basketball Men's Basketball   NaN  \n",
       "1      Judo Men's Extra-Lightweight   NaN  \n",
       "2           Football Men's Football   NaN  \n",
       "3       Tug-Of-War Men's Tug-Of-War  Gold  \n",
       "4  Speed Skating Women's 500 metres   NaN  "
      ]
     },
     "execution_count": 7,
     "metadata": {},
     "output_type": "execute_result"
    }
   ],
   "source": [
    "df.head(5)"
   ]
  },
  {
   "cell_type": "markdown",
   "metadata": {},
   "source": [
    "One can directly see some special things in the dataset: \n",
    "- The 'Games' column contains the same data but combined as the 'Year' and 'Season' columns do → Drop the column\n",
    "- There are missing values in the 'Height' and 'Weight' columns (and maybe in others too) → Find a way to either fill these cells with plausible values or drop them\n",
    "- There are missing values in the 'Medal' column, probably if an athlete did not win a medal in the coresponding games\n",
    "- The 'Team' column doesn't necessarily contain just the country for which the athlete started. So it might be better to take the 'NOC' column to determine the nationality (see also the number of unique teams below)"
   ]
  },
  {
   "cell_type": "code",
   "execution_count": 8,
   "metadata": {},
   "outputs": [
    {
     "data": {
      "application/vnd.microsoft.datawrangler.viewer.v0+json": {
       "columns": [
        {
         "name": "index",
         "rawType": "object",
         "type": "string"
        },
        {
         "name": "ID",
         "rawType": "float64",
         "type": "float"
        },
        {
         "name": "Name",
         "rawType": "object",
         "type": "unknown"
        },
        {
         "name": "Sex",
         "rawType": "object",
         "type": "unknown"
        },
        {
         "name": "Age",
         "rawType": "float64",
         "type": "float"
        },
        {
         "name": "Height",
         "rawType": "float64",
         "type": "float"
        },
        {
         "name": "Weight",
         "rawType": "float64",
         "type": "float"
        },
        {
         "name": "Team",
         "rawType": "object",
         "type": "unknown"
        },
        {
         "name": "NOC",
         "rawType": "object",
         "type": "unknown"
        },
        {
         "name": "Games",
         "rawType": "object",
         "type": "unknown"
        },
        {
         "name": "Year",
         "rawType": "float64",
         "type": "float"
        },
        {
         "name": "Season",
         "rawType": "object",
         "type": "unknown"
        },
        {
         "name": "City",
         "rawType": "object",
         "type": "unknown"
        },
        {
         "name": "Sport",
         "rawType": "object",
         "type": "unknown"
        },
        {
         "name": "Event",
         "rawType": "object",
         "type": "unknown"
        },
        {
         "name": "Medal",
         "rawType": "object",
         "type": "unknown"
        }
       ],
       "conversionMethod": "pd.DataFrame",
       "ref": "5969ba09-d11e-46a7-b7f3-eab41b7182b1",
       "rows": [
        [
         "count",
         "271116.0",
         "271116",
         "271116",
         "261642.0",
         "210945.0",
         "208241.0",
         "271116",
         "271116",
         "271116",
         "271116.0",
         "271116",
         "271116",
         "271116",
         "271116",
         "39783"
        ],
        [
         "unique",
         null,
         "134732",
         "2",
         null,
         null,
         null,
         "1184",
         "230",
         "51",
         null,
         "2",
         "42",
         "66",
         "765",
         "3"
        ],
        [
         "top",
         null,
         "Robert Tait McKenzie",
         "M",
         null,
         null,
         null,
         "United States",
         "USA",
         "2000 Summer",
         null,
         "Summer",
         "London",
         "Athletics",
         "Football Men's Football",
         "Gold"
        ],
        [
         "freq",
         null,
         "58",
         "196594",
         null,
         null,
         null,
         "17847",
         "18853",
         "13821",
         null,
         "222552",
         "22426",
         "38624",
         "5733",
         "13372"
        ],
        [
         "mean",
         "68248.95439590434",
         null,
         null,
         "25.556898357297374",
         "175.33896987366376",
         "70.70239290053351",
         null,
         null,
         null,
         "1978.3784800601957",
         null,
         null,
         null,
         null,
         null
        ],
        [
         "std",
         "39022.28634475712",
         null,
         null,
         "6.393560847032701",
         "10.518462222678274",
         "14.348019999019845",
         null,
         null,
         null,
         "29.877631985612652",
         null,
         null,
         null,
         null,
         null
        ],
        [
         "min",
         "1.0",
         null,
         null,
         "10.0",
         "127.0",
         "25.0",
         null,
         null,
         null,
         "1896.0",
         null,
         null,
         null,
         null,
         null
        ],
        [
         "25%",
         "34643.0",
         null,
         null,
         "21.0",
         "168.0",
         "60.0",
         null,
         null,
         null,
         "1960.0",
         null,
         null,
         null,
         null,
         null
        ],
        [
         "50%",
         "68205.0",
         null,
         null,
         "24.0",
         "175.0",
         "70.0",
         null,
         null,
         null,
         "1988.0",
         null,
         null,
         null,
         null,
         null
        ],
        [
         "75%",
         "102097.25",
         null,
         null,
         "28.0",
         "183.0",
         "79.0",
         null,
         null,
         null,
         "2002.0",
         null,
         null,
         null,
         null,
         null
        ],
        [
         "max",
         "135571.0",
         null,
         null,
         "97.0",
         "226.0",
         "214.0",
         null,
         null,
         null,
         "2016.0",
         null,
         null,
         null,
         null,
         null
        ]
       ],
       "shape": {
        "columns": 15,
        "rows": 11
       }
      },
      "text/html": [
       "<div>\n",
       "<style scoped>\n",
       "    .dataframe tbody tr th:only-of-type {\n",
       "        vertical-align: middle;\n",
       "    }\n",
       "\n",
       "    .dataframe tbody tr th {\n",
       "        vertical-align: top;\n",
       "    }\n",
       "\n",
       "    .dataframe thead th {\n",
       "        text-align: right;\n",
       "    }\n",
       "</style>\n",
       "<table border=\"1\" class=\"dataframe\">\n",
       "  <thead>\n",
       "    <tr style=\"text-align: right;\">\n",
       "      <th></th>\n",
       "      <th>ID</th>\n",
       "      <th>Name</th>\n",
       "      <th>Sex</th>\n",
       "      <th>Age</th>\n",
       "      <th>Height</th>\n",
       "      <th>Weight</th>\n",
       "      <th>Team</th>\n",
       "      <th>NOC</th>\n",
       "      <th>Games</th>\n",
       "      <th>Year</th>\n",
       "      <th>Season</th>\n",
       "      <th>City</th>\n",
       "      <th>Sport</th>\n",
       "      <th>Event</th>\n",
       "      <th>Medal</th>\n",
       "    </tr>\n",
       "  </thead>\n",
       "  <tbody>\n",
       "    <tr>\n",
       "      <th>count</th>\n",
       "      <td>271116.000000</td>\n",
       "      <td>271116</td>\n",
       "      <td>271116</td>\n",
       "      <td>261642.000000</td>\n",
       "      <td>210945.000000</td>\n",
       "      <td>208241.000000</td>\n",
       "      <td>271116</td>\n",
       "      <td>271116</td>\n",
       "      <td>271116</td>\n",
       "      <td>271116.000000</td>\n",
       "      <td>271116</td>\n",
       "      <td>271116</td>\n",
       "      <td>271116</td>\n",
       "      <td>271116</td>\n",
       "      <td>39783</td>\n",
       "    </tr>\n",
       "    <tr>\n",
       "      <th>unique</th>\n",
       "      <td>NaN</td>\n",
       "      <td>134732</td>\n",
       "      <td>2</td>\n",
       "      <td>NaN</td>\n",
       "      <td>NaN</td>\n",
       "      <td>NaN</td>\n",
       "      <td>1184</td>\n",
       "      <td>230</td>\n",
       "      <td>51</td>\n",
       "      <td>NaN</td>\n",
       "      <td>2</td>\n",
       "      <td>42</td>\n",
       "      <td>66</td>\n",
       "      <td>765</td>\n",
       "      <td>3</td>\n",
       "    </tr>\n",
       "    <tr>\n",
       "      <th>top</th>\n",
       "      <td>NaN</td>\n",
       "      <td>Robert Tait McKenzie</td>\n",
       "      <td>M</td>\n",
       "      <td>NaN</td>\n",
       "      <td>NaN</td>\n",
       "      <td>NaN</td>\n",
       "      <td>United States</td>\n",
       "      <td>USA</td>\n",
       "      <td>2000 Summer</td>\n",
       "      <td>NaN</td>\n",
       "      <td>Summer</td>\n",
       "      <td>London</td>\n",
       "      <td>Athletics</td>\n",
       "      <td>Football Men's Football</td>\n",
       "      <td>Gold</td>\n",
       "    </tr>\n",
       "    <tr>\n",
       "      <th>freq</th>\n",
       "      <td>NaN</td>\n",
       "      <td>58</td>\n",
       "      <td>196594</td>\n",
       "      <td>NaN</td>\n",
       "      <td>NaN</td>\n",
       "      <td>NaN</td>\n",
       "      <td>17847</td>\n",
       "      <td>18853</td>\n",
       "      <td>13821</td>\n",
       "      <td>NaN</td>\n",
       "      <td>222552</td>\n",
       "      <td>22426</td>\n",
       "      <td>38624</td>\n",
       "      <td>5733</td>\n",
       "      <td>13372</td>\n",
       "    </tr>\n",
       "    <tr>\n",
       "      <th>mean</th>\n",
       "      <td>68248.954396</td>\n",
       "      <td>NaN</td>\n",
       "      <td>NaN</td>\n",
       "      <td>25.556898</td>\n",
       "      <td>175.338970</td>\n",
       "      <td>70.702393</td>\n",
       "      <td>NaN</td>\n",
       "      <td>NaN</td>\n",
       "      <td>NaN</td>\n",
       "      <td>1978.378480</td>\n",
       "      <td>NaN</td>\n",
       "      <td>NaN</td>\n",
       "      <td>NaN</td>\n",
       "      <td>NaN</td>\n",
       "      <td>NaN</td>\n",
       "    </tr>\n",
       "    <tr>\n",
       "      <th>std</th>\n",
       "      <td>39022.286345</td>\n",
       "      <td>NaN</td>\n",
       "      <td>NaN</td>\n",
       "      <td>6.393561</td>\n",
       "      <td>10.518462</td>\n",
       "      <td>14.348020</td>\n",
       "      <td>NaN</td>\n",
       "      <td>NaN</td>\n",
       "      <td>NaN</td>\n",
       "      <td>29.877632</td>\n",
       "      <td>NaN</td>\n",
       "      <td>NaN</td>\n",
       "      <td>NaN</td>\n",
       "      <td>NaN</td>\n",
       "      <td>NaN</td>\n",
       "    </tr>\n",
       "    <tr>\n",
       "      <th>min</th>\n",
       "      <td>1.000000</td>\n",
       "      <td>NaN</td>\n",
       "      <td>NaN</td>\n",
       "      <td>10.000000</td>\n",
       "      <td>127.000000</td>\n",
       "      <td>25.000000</td>\n",
       "      <td>NaN</td>\n",
       "      <td>NaN</td>\n",
       "      <td>NaN</td>\n",
       "      <td>1896.000000</td>\n",
       "      <td>NaN</td>\n",
       "      <td>NaN</td>\n",
       "      <td>NaN</td>\n",
       "      <td>NaN</td>\n",
       "      <td>NaN</td>\n",
       "    </tr>\n",
       "    <tr>\n",
       "      <th>25%</th>\n",
       "      <td>34643.000000</td>\n",
       "      <td>NaN</td>\n",
       "      <td>NaN</td>\n",
       "      <td>21.000000</td>\n",
       "      <td>168.000000</td>\n",
       "      <td>60.000000</td>\n",
       "      <td>NaN</td>\n",
       "      <td>NaN</td>\n",
       "      <td>NaN</td>\n",
       "      <td>1960.000000</td>\n",
       "      <td>NaN</td>\n",
       "      <td>NaN</td>\n",
       "      <td>NaN</td>\n",
       "      <td>NaN</td>\n",
       "      <td>NaN</td>\n",
       "    </tr>\n",
       "    <tr>\n",
       "      <th>50%</th>\n",
       "      <td>68205.000000</td>\n",
       "      <td>NaN</td>\n",
       "      <td>NaN</td>\n",
       "      <td>24.000000</td>\n",
       "      <td>175.000000</td>\n",
       "      <td>70.000000</td>\n",
       "      <td>NaN</td>\n",
       "      <td>NaN</td>\n",
       "      <td>NaN</td>\n",
       "      <td>1988.000000</td>\n",
       "      <td>NaN</td>\n",
       "      <td>NaN</td>\n",
       "      <td>NaN</td>\n",
       "      <td>NaN</td>\n",
       "      <td>NaN</td>\n",
       "    </tr>\n",
       "    <tr>\n",
       "      <th>75%</th>\n",
       "      <td>102097.250000</td>\n",
       "      <td>NaN</td>\n",
       "      <td>NaN</td>\n",
       "      <td>28.000000</td>\n",
       "      <td>183.000000</td>\n",
       "      <td>79.000000</td>\n",
       "      <td>NaN</td>\n",
       "      <td>NaN</td>\n",
       "      <td>NaN</td>\n",
       "      <td>2002.000000</td>\n",
       "      <td>NaN</td>\n",
       "      <td>NaN</td>\n",
       "      <td>NaN</td>\n",
       "      <td>NaN</td>\n",
       "      <td>NaN</td>\n",
       "    </tr>\n",
       "    <tr>\n",
       "      <th>max</th>\n",
       "      <td>135571.000000</td>\n",
       "      <td>NaN</td>\n",
       "      <td>NaN</td>\n",
       "      <td>97.000000</td>\n",
       "      <td>226.000000</td>\n",
       "      <td>214.000000</td>\n",
       "      <td>NaN</td>\n",
       "      <td>NaN</td>\n",
       "      <td>NaN</td>\n",
       "      <td>2016.000000</td>\n",
       "      <td>NaN</td>\n",
       "      <td>NaN</td>\n",
       "      <td>NaN</td>\n",
       "      <td>NaN</td>\n",
       "      <td>NaN</td>\n",
       "    </tr>\n",
       "  </tbody>\n",
       "</table>\n",
       "</div>"
      ],
      "text/plain": [
       "                   ID                  Name     Sex            Age  \\\n",
       "count   271116.000000                271116  271116  261642.000000   \n",
       "unique            NaN                134732       2            NaN   \n",
       "top               NaN  Robert Tait McKenzie       M            NaN   \n",
       "freq              NaN                    58  196594            NaN   \n",
       "mean     68248.954396                   NaN     NaN      25.556898   \n",
       "std      39022.286345                   NaN     NaN       6.393561   \n",
       "min          1.000000                   NaN     NaN      10.000000   \n",
       "25%      34643.000000                   NaN     NaN      21.000000   \n",
       "50%      68205.000000                   NaN     NaN      24.000000   \n",
       "75%     102097.250000                   NaN     NaN      28.000000   \n",
       "max     135571.000000                   NaN     NaN      97.000000   \n",
       "\n",
       "               Height         Weight           Team     NOC        Games  \\\n",
       "count   210945.000000  208241.000000         271116  271116       271116   \n",
       "unique            NaN            NaN           1184     230           51   \n",
       "top               NaN            NaN  United States     USA  2000 Summer   \n",
       "freq              NaN            NaN          17847   18853        13821   \n",
       "mean       175.338970      70.702393            NaN     NaN          NaN   \n",
       "std         10.518462      14.348020            NaN     NaN          NaN   \n",
       "min        127.000000      25.000000            NaN     NaN          NaN   \n",
       "25%        168.000000      60.000000            NaN     NaN          NaN   \n",
       "50%        175.000000      70.000000            NaN     NaN          NaN   \n",
       "75%        183.000000      79.000000            NaN     NaN          NaN   \n",
       "max        226.000000     214.000000            NaN     NaN          NaN   \n",
       "\n",
       "                 Year  Season    City      Sport                    Event  \\\n",
       "count   271116.000000  271116  271116     271116                   271116   \n",
       "unique            NaN       2      42         66                      765   \n",
       "top               NaN  Summer  London  Athletics  Football Men's Football   \n",
       "freq              NaN  222552   22426      38624                     5733   \n",
       "mean      1978.378480     NaN     NaN        NaN                      NaN   \n",
       "std         29.877632     NaN     NaN        NaN                      NaN   \n",
       "min       1896.000000     NaN     NaN        NaN                      NaN   \n",
       "25%       1960.000000     NaN     NaN        NaN                      NaN   \n",
       "50%       1988.000000     NaN     NaN        NaN                      NaN   \n",
       "75%       2002.000000     NaN     NaN        NaN                      NaN   \n",
       "max       2016.000000     NaN     NaN        NaN                      NaN   \n",
       "\n",
       "        Medal  \n",
       "count   39783  \n",
       "unique      3  \n",
       "top      Gold  \n",
       "freq    13372  \n",
       "mean      NaN  \n",
       "std       NaN  \n",
       "min       NaN  \n",
       "25%       NaN  \n",
       "50%       NaN  \n",
       "75%       NaN  \n",
       "max       NaN  "
      ]
     },
     "execution_count": 8,
     "metadata": {},
     "output_type": "execute_result"
    }
   ],
   "source": [
    "df.describe(include='all')"
   ]
  },
  {
   "cell_type": "markdown",
   "metadata": {},
   "source": [
    "### Checking for duplicates"
   ]
  },
  {
   "cell_type": "code",
   "execution_count": 9,
   "metadata": {},
   "outputs": [
    {
     "data": {
      "application/vnd.microsoft.datawrangler.viewer.v0+json": {
       "columns": [
        {
         "name": "index",
         "rawType": "int64",
         "type": "integer"
        },
        {
         "name": "ID",
         "rawType": "int64",
         "type": "integer"
        },
        {
         "name": "Name",
         "rawType": "object",
         "type": "string"
        },
        {
         "name": "Sex",
         "rawType": "object",
         "type": "string"
        },
        {
         "name": "Age",
         "rawType": "float64",
         "type": "float"
        },
        {
         "name": "Height",
         "rawType": "float64",
         "type": "float"
        },
        {
         "name": "Weight",
         "rawType": "float64",
         "type": "float"
        },
        {
         "name": "Team",
         "rawType": "object",
         "type": "string"
        },
        {
         "name": "NOC",
         "rawType": "object",
         "type": "string"
        },
        {
         "name": "Games",
         "rawType": "object",
         "type": "string"
        },
        {
         "name": "Year",
         "rawType": "int64",
         "type": "integer"
        },
        {
         "name": "Season",
         "rawType": "object",
         "type": "string"
        },
        {
         "name": "City",
         "rawType": "object",
         "type": "string"
        },
        {
         "name": "Sport",
         "rawType": "object",
         "type": "string"
        },
        {
         "name": "Event",
         "rawType": "object",
         "type": "string"
        },
        {
         "name": "Medal",
         "rawType": "object",
         "type": "unknown"
        }
       ],
       "conversionMethod": "pd.DataFrame",
       "ref": "4063041b-97f9-4ae5-956b-f8d4a02b6f97",
       "rows": [
        [
         "1252",
         "704",
         "Dsir Antoine Acket",
         "M",
         "27.0",
         null,
         null,
         "Belgium",
         "BEL",
         "1932 Summer",
         "1932",
         "Summer",
         "Los Angeles",
         "Art Competitions",
         "Art Competitions Mixed Painting, Unknown Event",
         null
        ],
        [
         "4282",
         "2449",
         "William Truman Aldrich",
         "M",
         "48.0",
         null,
         null,
         "United States",
         "USA",
         "1928 Summer",
         "1928",
         "Summer",
         "Amsterdam",
         "Art Competitions",
         "Art Competitions Mixed Painting, Drawings And Water Colors",
         null
        ],
        [
         "4283",
         "2449",
         "William Truman Aldrich",
         "M",
         "48.0",
         null,
         null,
         "United States",
         "USA",
         "1928 Summer",
         "1928",
         "Summer",
         "Amsterdam",
         "Art Competitions",
         "Art Competitions Mixed Painting, Drawings And Water Colors",
         null
        ],
        [
         "4862",
         "2777",
         "Hermann Reinhard Alker",
         "M",
         "43.0",
         null,
         null,
         "Germany",
         "GER",
         "1928 Summer",
         "1928",
         "Summer",
         "Amsterdam",
         "Art Competitions",
         "Art Competitions Mixed Architecture, Designs For Town Planning",
         null
        ],
        [
         "4864",
         "2777",
         "Hermann Reinhard Alker",
         "M",
         "43.0",
         null,
         null,
         "Germany",
         "GER",
         "1928 Summer",
         "1928",
         "Summer",
         "Amsterdam",
         "Art Competitions",
         "Art Competitions Mixed Architecture, Architectural Designs",
         null
        ],
        [
         "4867",
         "2777",
         "Hermann Reinhard Alker",
         "M",
         "51.0",
         null,
         null,
         "Germany",
         "GER",
         "1936 Summer",
         "1936",
         "Summer",
         "Berlin",
         "Art Competitions",
         "Art Competitions Mixed Architecture, Unknown Event",
         null
        ],
        [
         "5105",
         "2903",
         "Lucien Charles Edouard Alliot",
         "M",
         "46.0",
         null,
         null,
         "France",
         "FRA",
         "1924 Summer",
         "1924",
         "Summer",
         "Paris",
         "Art Competitions",
         "Art Competitions Mixed Sculpturing",
         null
        ],
        [
         "5106",
         "2903",
         "Lucien Charles Edouard Alliot",
         "M",
         "46.0",
         null,
         null,
         "France",
         "FRA",
         "1924 Summer",
         "1924",
         "Summer",
         "Paris",
         "Art Competitions",
         "Art Competitions Mixed Sculpturing",
         null
        ],
        [
         "7770",
         "4319",
         "Ludwig Angerer",
         "M",
         "41.0",
         null,
         null,
         "Germany",
         "GER",
         "1932 Summer",
         "1932",
         "Summer",
         "Los Angeles",
         "Art Competitions",
         "Art Competitions Mixed Painting, Unknown Event",
         null
        ],
        [
         "7771",
         "4319",
         "Ludwig Angerer",
         "M",
         "41.0",
         null,
         null,
         "Germany",
         "GER",
         "1932 Summer",
         "1932",
         "Summer",
         "Los Angeles",
         "Art Competitions",
         "Art Competitions Mixed Painting, Unknown Event",
         null
        ],
        [
         "7772",
         "4319",
         "Ludwig Angerer",
         "M",
         "41.0",
         null,
         null,
         "Germany",
         "GER",
         "1932 Summer",
         "1932",
         "Summer",
         "Los Angeles",
         "Art Competitions",
         "Art Competitions Mixed Painting, Unknown Event",
         null
        ],
        [
         "7774",
         "4319",
         "Ludwig Angerer",
         "M",
         "45.0",
         null,
         null,
         "Germany",
         "GER",
         "1936 Summer",
         "1936",
         "Summer",
         "Berlin",
         "Art Competitions",
         "Art Competitions Mixed Painting, Unknown Event",
         null
        ],
        [
         "9366",
         "5146",
         "George Denholm Armour",
         "M",
         "64.0",
         null,
         null,
         "Great Britain",
         "GBR",
         "1928 Summer",
         "1928",
         "Summer",
         "Amsterdam",
         "Art Competitions",
         "Art Competitions Mixed Painting, Paintings",
         null
        ],
        [
         "9367",
         "5146",
         "George Denholm Armour",
         "M",
         "64.0",
         null,
         null,
         "Great Britain",
         "GBR",
         "1928 Summer",
         "1928",
         "Summer",
         "Amsterdam",
         "Art Competitions",
         "Art Competitions Mixed Painting, Paintings",
         null
        ],
        [
         "9368",
         "5146",
         "George Denholm Armour",
         "M",
         "64.0",
         null,
         null,
         "Great Britain",
         "GBR",
         "1928 Summer",
         "1928",
         "Summer",
         "Amsterdam",
         "Art Competitions",
         "Art Competitions Mixed Painting, Paintings",
         null
        ],
        [
         "9370",
         "5146",
         "George Denholm Armour",
         "M",
         "68.0",
         null,
         null,
         "Great Britain",
         "GBR",
         "1932 Summer",
         "1932",
         "Summer",
         "Los Angeles",
         "Art Competitions",
         "Art Competitions Mixed Painting, Unknown Event",
         null
        ],
        [
         "10282",
         "5623",
         "Konstantinos Aslanidis",
         "M",
         null,
         null,
         null,
         "Greece",
         "GRE",
         "1948 Summer",
         "1948",
         "Summer",
         "London",
         "Art Competitions",
         "Art Competitions Mixed Architecture, Unknown Event",
         null
        ],
        [
         "10295",
         "5634",
         "Axel Edvin \"Acke\" slund",
         "M",
         "50.0",
         null,
         null,
         "Sweden",
         "SWE",
         "1932 Summer",
         "1932",
         "Summer",
         "Los Angeles",
         "Art Competitions",
         "Art Competitions Mixed Painting, Unknown Event",
         null
        ],
        [
         "10867",
         "5935",
         "Andr Auffray",
         "M",
         "23.0",
         null,
         null,
         "France",
         "FRA",
         "1908 Summer",
         "1908",
         "Summer",
         "London",
         "Cycling",
         "Cycling Men's Sprint",
         null
        ],
        [
         "11013",
         "6016",
         "Winifred Marie Louise Austen (-Frick)",
         "F",
         "72.0",
         null,
         null,
         "Great Britain",
         "GBR",
         "1948 Summer",
         "1948",
         "Summer",
         "London",
         "Art Competitions",
         "Art Competitions Mixed Painting, Unknown Event",
         null
        ],
        [
         "11797",
         "6437",
         "August Babberger",
         "M",
         "50.0",
         null,
         null,
         "Germany",
         "GER",
         "1936 Summer",
         "1936",
         "Summer",
         "Berlin",
         "Art Competitions",
         "Art Competitions Mixed Painting, Unknown Event",
         null
        ],
        [
         "12639",
         "6883",
         "William James \"Bill\" Bailey",
         "M",
         "20.0",
         null,
         null,
         "Great Britain",
         "GBR",
         "1908 Summer",
         "1908",
         "Summer",
         "London",
         "Cycling",
         "Cycling Men's Sprint",
         null
        ],
        [
         "12727",
         "6929",
         "Flix Pierre Victor Bailly",
         "M",
         "43.0",
         null,
         null,
         "France",
         "FRA",
         "1932 Summer",
         "1932",
         "Summer",
         "Los Angeles",
         "Art Competitions",
         "Art Competitions Mixed Architecture, Unknown Event",
         null
        ],
        [
         "13017",
         "7082",
         "Wolter Bakker",
         "M",
         "47.0",
         null,
         null,
         "Netherlands",
         "NED",
         "1936 Summer",
         "1936",
         "Summer",
         "Berlin",
         "Art Competitions",
         "Art Competitions Mixed Architecture, Architectural Designs",
         null
        ],
        [
         "13018",
         "7082",
         "Wolter Bakker",
         "M",
         "47.0",
         null,
         null,
         "Netherlands",
         "NED",
         "1936 Summer",
         "1936",
         "Summer",
         "Berlin",
         "Art Competitions",
         "Art Competitions Mixed Architecture, Architectural Designs",
         null
        ],
        [
         "13019",
         "7082",
         "Wolter Bakker",
         "M",
         "47.0",
         null,
         null,
         "Netherlands",
         "NED",
         "1936 Summer",
         "1936",
         "Summer",
         "Berlin",
         "Art Competitions",
         "Art Competitions Mixed Architecture, Architectural Designs",
         null
        ],
        [
         "13020",
         "7082",
         "Wolter Bakker",
         "M",
         "47.0",
         null,
         null,
         "Netherlands",
         "NED",
         "1936 Summer",
         "1936",
         "Summer",
         "Berlin",
         "Art Competitions",
         "Art Competitions Mixed Architecture, Architectural Designs",
         null
        ],
        [
         "13222",
         "7176",
         "Ferdinand Balcrek",
         "M",
         "43.0",
         null,
         null,
         "Czechoslovakia",
         "TCH",
         "1948 Summer",
         "1948",
         "Summer",
         "London",
         "Art Competitions",
         "Art Competitions Mixed Architecture, Unknown Event",
         null
        ],
        [
         "13645",
         "7384",
         "Ernst Balser",
         "M",
         "38.0",
         null,
         null,
         "Germany",
         "GER",
         "1932 Summer",
         "1932",
         "Summer",
         "Los Angeles",
         "Art Competitions",
         "Art Competitions Mixed Architecture, Unknown Event",
         null
        ],
        [
         "13680",
         "7404",
         "Jean-Ado Baltus",
         "M",
         "14.0",
         null,
         null,
         "Belgium",
         "BEL",
         "1932 Summer",
         "1932",
         "Summer",
         "Los Angeles",
         "Art Competitions",
         "Art Competitions Mixed Painting, Unknown Event",
         null
        ],
        [
         "13681",
         "7404",
         "Jean-Ado Baltus",
         "M",
         "14.0",
         null,
         null,
         "Belgium",
         "BEL",
         "1932 Summer",
         "1932",
         "Summer",
         "Los Angeles",
         "Art Competitions",
         "Art Competitions Mixed Painting, Unknown Event",
         null
        ],
        [
         "13682",
         "7404",
         "Jean-Ado Baltus",
         "M",
         "14.0",
         null,
         null,
         "Belgium",
         "BEL",
         "1932 Summer",
         "1932",
         "Summer",
         "Los Angeles",
         "Art Competitions",
         "Art Competitions Mixed Painting, Unknown Event",
         null
        ],
        [
         "13713",
         "7426",
         "George A. Bamber",
         "M",
         null,
         null,
         null,
         "Great Britain",
         "GBR",
         "1924 Summer",
         "1924",
         "Summer",
         "Paris",
         "Art Competitions",
         "Art Competitions Mixed Painting",
         null
        ],
        [
         "13714",
         "7426",
         "George A. Bamber",
         "M",
         null,
         null,
         null,
         "Great Britain",
         "GBR",
         "1924 Summer",
         "1924",
         "Summer",
         "Paris",
         "Art Competitions",
         "Art Competitions Mixed Painting",
         null
        ],
        [
         "14841",
         "8009",
         "R. G. P. Baron",
         "M",
         null,
         null,
         null,
         "France",
         "FRA",
         "1924 Summer",
         "1924",
         "Summer",
         "Paris",
         "Art Competitions",
         "Art Competitions Mixed Painting",
         null
        ],
        [
         "15040",
         "8115",
         "Jean Louis Charles Joseph Barrez",
         "M",
         null,
         null,
         null,
         "France",
         "FRA",
         "1928 Summer",
         "1928",
         "Summer",
         "Amsterdam",
         "Art Competitions",
         "Art Competitions Mixed Painting, Paintings",
         null
        ],
        [
         "15041",
         "8115",
         "Jean Louis Charles Joseph Barrez",
         "M",
         null,
         null,
         null,
         "France",
         "FRA",
         "1928 Summer",
         "1928",
         "Summer",
         "Amsterdam",
         "Art Competitions",
         "Art Competitions Mixed Painting, Paintings",
         null
        ],
        [
         "15042",
         "8115",
         "Jean Louis Charles Joseph Barrez",
         "M",
         null,
         null,
         null,
         "France",
         "FRA",
         "1928 Summer",
         "1928",
         "Summer",
         "Amsterdam",
         "Art Competitions",
         "Art Competitions Mixed Painting, Paintings",
         null
        ],
        [
         "15043",
         "8115",
         "Jean Louis Charles Joseph Barrez",
         "M",
         null,
         null,
         null,
         "France",
         "FRA",
         "1928 Summer",
         "1928",
         "Summer",
         "Amsterdam",
         "Art Competitions",
         "Art Competitions Mixed Painting, Paintings",
         null
        ],
        [
         "15044",
         "8115",
         "Jean Louis Charles Joseph Barrez",
         "M",
         null,
         null,
         null,
         "France",
         "FRA",
         "1928 Summer",
         "1928",
         "Summer",
         "Amsterdam",
         "Art Competitions",
         "Art Competitions Mixed Painting, Paintings",
         null
        ],
        [
         "15427",
         "8317",
         "Luigi Bartolini",
         "M",
         "56.0",
         null,
         null,
         "Italy",
         "ITA",
         "1948 Summer",
         "1948",
         "Summer",
         "London",
         "Art Competitions",
         "Art Competitions Mixed Painting, Graphic Arts",
         null
        ],
        [
         "15546",
         "8378",
         "Franz Barwig",
         "M",
         "60.0",
         null,
         null,
         "Austria",
         "AUT",
         "1928 Summer",
         "1928",
         "Summer",
         "Amsterdam",
         "Art Competitions",
         "Art Competitions Mixed Sculpturing, Statues",
         null
        ],
        [
         "15547",
         "8378",
         "Franz Barwig",
         "M",
         "60.0",
         null,
         null,
         "Austria",
         "AUT",
         "1928 Summer",
         "1928",
         "Summer",
         "Amsterdam",
         "Art Competitions",
         "Art Competitions Mixed Sculpturing, Statues",
         null
        ],
        [
         "15851",
         "8547",
         "Henry Mayo Bateman",
         "M",
         "41.0",
         null,
         null,
         "Great Britain",
         "GBR",
         "1928 Summer",
         "1928",
         "Summer",
         "Amsterdam",
         "Art Competitions",
         "Art Competitions Mixed Painting, Drawings And Water Colors",
         null
        ],
        [
         "16341",
         "8778",
         "Friedrich Wilhelm \"Willi\" Baumeister",
         "M",
         "39.0",
         null,
         null,
         "Germany",
         "GER",
         "1928 Summer",
         "1928",
         "Summer",
         "Amsterdam",
         "Art Competitions",
         "Art Competitions Mixed Painting, Paintings",
         null
        ],
        [
         "16347",
         "8781",
         "Lewis Christopher Edward Baumer",
         "M",
         "57.0",
         null,
         null,
         "Great Britain",
         "GBR",
         "1928 Summer",
         "1928",
         "Summer",
         "Amsterdam",
         "Art Competitions",
         "Art Competitions Mixed Painting, Drawings And Water Colors",
         null
        ],
        [
         "16348",
         "8781",
         "Lewis Christopher Edward Baumer",
         "M",
         "57.0",
         null,
         null,
         "Great Britain",
         "GBR",
         "1928 Summer",
         "1928",
         "Summer",
         "Amsterdam",
         "Art Competitions",
         "Art Competitions Mixed Painting, Drawings And Water Colors",
         null
        ],
        [
         "16350",
         "8781",
         "Lewis Christopher Edward Baumer",
         "M",
         "61.0",
         null,
         null,
         "Great Britain",
         "GBR",
         "1932 Summer",
         "1932",
         "Summer",
         "Los Angeles",
         "Art Competitions",
         "Art Competitions Mixed Painting, Unknown Event",
         null
        ],
        [
         "16351",
         "8781",
         "Lewis Christopher Edward Baumer",
         "M",
         "61.0",
         null,
         null,
         "Great Britain",
         "GBR",
         "1932 Summer",
         "1932",
         "Summer",
         "Los Angeles",
         "Art Competitions",
         "Art Competitions Mixed Painting, Unknown Event",
         null
        ],
        [
         "16352",
         "8781",
         "Lewis Christopher Edward Baumer",
         "M",
         "61.0",
         null,
         null,
         "Great Britain",
         "GBR",
         "1932 Summer",
         "1932",
         "Summer",
         "Los Angeles",
         "Art Competitions",
         "Art Competitions Mixed Painting, Unknown Event",
         null
        ]
       ],
       "shape": {
        "columns": 15,
        "rows": 1385
       }
      },
      "text/html": [
       "<div>\n",
       "<style scoped>\n",
       "    .dataframe tbody tr th:only-of-type {\n",
       "        vertical-align: middle;\n",
       "    }\n",
       "\n",
       "    .dataframe tbody tr th {\n",
       "        vertical-align: top;\n",
       "    }\n",
       "\n",
       "    .dataframe thead th {\n",
       "        text-align: right;\n",
       "    }\n",
       "</style>\n",
       "<table border=\"1\" class=\"dataframe\">\n",
       "  <thead>\n",
       "    <tr style=\"text-align: right;\">\n",
       "      <th></th>\n",
       "      <th>ID</th>\n",
       "      <th>Name</th>\n",
       "      <th>Sex</th>\n",
       "      <th>Age</th>\n",
       "      <th>Height</th>\n",
       "      <th>Weight</th>\n",
       "      <th>Team</th>\n",
       "      <th>NOC</th>\n",
       "      <th>Games</th>\n",
       "      <th>Year</th>\n",
       "      <th>Season</th>\n",
       "      <th>City</th>\n",
       "      <th>Sport</th>\n",
       "      <th>Event</th>\n",
       "      <th>Medal</th>\n",
       "    </tr>\n",
       "  </thead>\n",
       "  <tbody>\n",
       "    <tr>\n",
       "      <th>1252</th>\n",
       "      <td>704</td>\n",
       "      <td>Dsir Antoine Acket</td>\n",
       "      <td>M</td>\n",
       "      <td>27.0</td>\n",
       "      <td>NaN</td>\n",
       "      <td>NaN</td>\n",
       "      <td>Belgium</td>\n",
       "      <td>BEL</td>\n",
       "      <td>1932 Summer</td>\n",
       "      <td>1932</td>\n",
       "      <td>Summer</td>\n",
       "      <td>Los Angeles</td>\n",
       "      <td>Art Competitions</td>\n",
       "      <td>Art Competitions Mixed Painting, Unknown Event</td>\n",
       "      <td>NaN</td>\n",
       "    </tr>\n",
       "    <tr>\n",
       "      <th>4282</th>\n",
       "      <td>2449</td>\n",
       "      <td>William Truman Aldrich</td>\n",
       "      <td>M</td>\n",
       "      <td>48.0</td>\n",
       "      <td>NaN</td>\n",
       "      <td>NaN</td>\n",
       "      <td>United States</td>\n",
       "      <td>USA</td>\n",
       "      <td>1928 Summer</td>\n",
       "      <td>1928</td>\n",
       "      <td>Summer</td>\n",
       "      <td>Amsterdam</td>\n",
       "      <td>Art Competitions</td>\n",
       "      <td>Art Competitions Mixed Painting, Drawings And ...</td>\n",
       "      <td>NaN</td>\n",
       "    </tr>\n",
       "    <tr>\n",
       "      <th>4283</th>\n",
       "      <td>2449</td>\n",
       "      <td>William Truman Aldrich</td>\n",
       "      <td>M</td>\n",
       "      <td>48.0</td>\n",
       "      <td>NaN</td>\n",
       "      <td>NaN</td>\n",
       "      <td>United States</td>\n",
       "      <td>USA</td>\n",
       "      <td>1928 Summer</td>\n",
       "      <td>1928</td>\n",
       "      <td>Summer</td>\n",
       "      <td>Amsterdam</td>\n",
       "      <td>Art Competitions</td>\n",
       "      <td>Art Competitions Mixed Painting, Drawings And ...</td>\n",
       "      <td>NaN</td>\n",
       "    </tr>\n",
       "    <tr>\n",
       "      <th>4862</th>\n",
       "      <td>2777</td>\n",
       "      <td>Hermann Reinhard Alker</td>\n",
       "      <td>M</td>\n",
       "      <td>43.0</td>\n",
       "      <td>NaN</td>\n",
       "      <td>NaN</td>\n",
       "      <td>Germany</td>\n",
       "      <td>GER</td>\n",
       "      <td>1928 Summer</td>\n",
       "      <td>1928</td>\n",
       "      <td>Summer</td>\n",
       "      <td>Amsterdam</td>\n",
       "      <td>Art Competitions</td>\n",
       "      <td>Art Competitions Mixed Architecture, Designs F...</td>\n",
       "      <td>NaN</td>\n",
       "    </tr>\n",
       "    <tr>\n",
       "      <th>4864</th>\n",
       "      <td>2777</td>\n",
       "      <td>Hermann Reinhard Alker</td>\n",
       "      <td>M</td>\n",
       "      <td>43.0</td>\n",
       "      <td>NaN</td>\n",
       "      <td>NaN</td>\n",
       "      <td>Germany</td>\n",
       "      <td>GER</td>\n",
       "      <td>1928 Summer</td>\n",
       "      <td>1928</td>\n",
       "      <td>Summer</td>\n",
       "      <td>Amsterdam</td>\n",
       "      <td>Art Competitions</td>\n",
       "      <td>Art Competitions Mixed Architecture, Architect...</td>\n",
       "      <td>NaN</td>\n",
       "    </tr>\n",
       "    <tr>\n",
       "      <th>...</th>\n",
       "      <td>...</td>\n",
       "      <td>...</td>\n",
       "      <td>...</td>\n",
       "      <td>...</td>\n",
       "      <td>...</td>\n",
       "      <td>...</td>\n",
       "      <td>...</td>\n",
       "      <td>...</td>\n",
       "      <td>...</td>\n",
       "      <td>...</td>\n",
       "      <td>...</td>\n",
       "      <td>...</td>\n",
       "      <td>...</td>\n",
       "      <td>...</td>\n",
       "      <td>...</td>\n",
       "    </tr>\n",
       "    <tr>\n",
       "      <th>269994</th>\n",
       "      <td>135072</td>\n",
       "      <td>Anna Katrina Zinkeisen (-Heseltine)</td>\n",
       "      <td>F</td>\n",
       "      <td>46.0</td>\n",
       "      <td>NaN</td>\n",
       "      <td>NaN</td>\n",
       "      <td>Great Britain</td>\n",
       "      <td>GBR</td>\n",
       "      <td>1948 Summer</td>\n",
       "      <td>1948</td>\n",
       "      <td>Summer</td>\n",
       "      <td>London</td>\n",
       "      <td>Art Competitions</td>\n",
       "      <td>Art Competitions Mixed Painting, Paintings</td>\n",
       "      <td>NaN</td>\n",
       "    </tr>\n",
       "    <tr>\n",
       "      <th>269995</th>\n",
       "      <td>135072</td>\n",
       "      <td>Anna Katrina Zinkeisen (-Heseltine)</td>\n",
       "      <td>F</td>\n",
       "      <td>46.0</td>\n",
       "      <td>NaN</td>\n",
       "      <td>NaN</td>\n",
       "      <td>Great Britain</td>\n",
       "      <td>GBR</td>\n",
       "      <td>1948 Summer</td>\n",
       "      <td>1948</td>\n",
       "      <td>Summer</td>\n",
       "      <td>London</td>\n",
       "      <td>Art Competitions</td>\n",
       "      <td>Art Competitions Mixed Painting, Paintings</td>\n",
       "      <td>NaN</td>\n",
       "    </tr>\n",
       "    <tr>\n",
       "      <th>269997</th>\n",
       "      <td>135072</td>\n",
       "      <td>Anna Katrina Zinkeisen (-Heseltine)</td>\n",
       "      <td>F</td>\n",
       "      <td>46.0</td>\n",
       "      <td>NaN</td>\n",
       "      <td>NaN</td>\n",
       "      <td>Great Britain</td>\n",
       "      <td>GBR</td>\n",
       "      <td>1948 Summer</td>\n",
       "      <td>1948</td>\n",
       "      <td>Summer</td>\n",
       "      <td>London</td>\n",
       "      <td>Art Competitions</td>\n",
       "      <td>Art Competitions Mixed Painting, Unknown Event</td>\n",
       "      <td>NaN</td>\n",
       "    </tr>\n",
       "    <tr>\n",
       "      <th>269999</th>\n",
       "      <td>135073</td>\n",
       "      <td>Doris Clare Zinkeisen (-Johnstone)</td>\n",
       "      <td>F</td>\n",
       "      <td>49.0</td>\n",
       "      <td>NaN</td>\n",
       "      <td>NaN</td>\n",
       "      <td>Great Britain</td>\n",
       "      <td>GBR</td>\n",
       "      <td>1948 Summer</td>\n",
       "      <td>1948</td>\n",
       "      <td>Summer</td>\n",
       "      <td>London</td>\n",
       "      <td>Art Competitions</td>\n",
       "      <td>Art Competitions Mixed Painting, Unknown Event</td>\n",
       "      <td>NaN</td>\n",
       "    </tr>\n",
       "    <tr>\n",
       "      <th>270200</th>\n",
       "      <td>135173</td>\n",
       "      <td>Henri Achille Zo</td>\n",
       "      <td>M</td>\n",
       "      <td>58.0</td>\n",
       "      <td>NaN</td>\n",
       "      <td>NaN</td>\n",
       "      <td>France</td>\n",
       "      <td>FRA</td>\n",
       "      <td>1932 Summer</td>\n",
       "      <td>1932</td>\n",
       "      <td>Summer</td>\n",
       "      <td>Los Angeles</td>\n",
       "      <td>Art Competitions</td>\n",
       "      <td>Art Competitions Mixed Painting, Unknown Event</td>\n",
       "      <td>NaN</td>\n",
       "    </tr>\n",
       "  </tbody>\n",
       "</table>\n",
       "<p>1385 rows × 15 columns</p>\n",
       "</div>"
      ],
      "text/plain": [
       "            ID                                 Name Sex   Age  Height  Weight  \\\n",
       "1252       704                   Dsir Antoine Acket   M  27.0     NaN     NaN   \n",
       "4282      2449               William Truman Aldrich   M  48.0     NaN     NaN   \n",
       "4283      2449               William Truman Aldrich   M  48.0     NaN     NaN   \n",
       "4862      2777               Hermann Reinhard Alker   M  43.0     NaN     NaN   \n",
       "4864      2777               Hermann Reinhard Alker   M  43.0     NaN     NaN   \n",
       "...        ...                                  ...  ..   ...     ...     ...   \n",
       "269994  135072  Anna Katrina Zinkeisen (-Heseltine)   F  46.0     NaN     NaN   \n",
       "269995  135072  Anna Katrina Zinkeisen (-Heseltine)   F  46.0     NaN     NaN   \n",
       "269997  135072  Anna Katrina Zinkeisen (-Heseltine)   F  46.0     NaN     NaN   \n",
       "269999  135073   Doris Clare Zinkeisen (-Johnstone)   F  49.0     NaN     NaN   \n",
       "270200  135173                     Henri Achille Zo   M  58.0     NaN     NaN   \n",
       "\n",
       "                 Team  NOC        Games  Year  Season         City  \\\n",
       "1252          Belgium  BEL  1932 Summer  1932  Summer  Los Angeles   \n",
       "4282    United States  USA  1928 Summer  1928  Summer    Amsterdam   \n",
       "4283    United States  USA  1928 Summer  1928  Summer    Amsterdam   \n",
       "4862          Germany  GER  1928 Summer  1928  Summer    Amsterdam   \n",
       "4864          Germany  GER  1928 Summer  1928  Summer    Amsterdam   \n",
       "...               ...  ...          ...   ...     ...          ...   \n",
       "269994  Great Britain  GBR  1948 Summer  1948  Summer       London   \n",
       "269995  Great Britain  GBR  1948 Summer  1948  Summer       London   \n",
       "269997  Great Britain  GBR  1948 Summer  1948  Summer       London   \n",
       "269999  Great Britain  GBR  1948 Summer  1948  Summer       London   \n",
       "270200         France  FRA  1932 Summer  1932  Summer  Los Angeles   \n",
       "\n",
       "                   Sport                                              Event  \\\n",
       "1252    Art Competitions     Art Competitions Mixed Painting, Unknown Event   \n",
       "4282    Art Competitions  Art Competitions Mixed Painting, Drawings And ...   \n",
       "4283    Art Competitions  Art Competitions Mixed Painting, Drawings And ...   \n",
       "4862    Art Competitions  Art Competitions Mixed Architecture, Designs F...   \n",
       "4864    Art Competitions  Art Competitions Mixed Architecture, Architect...   \n",
       "...                  ...                                                ...   \n",
       "269994  Art Competitions         Art Competitions Mixed Painting, Paintings   \n",
       "269995  Art Competitions         Art Competitions Mixed Painting, Paintings   \n",
       "269997  Art Competitions     Art Competitions Mixed Painting, Unknown Event   \n",
       "269999  Art Competitions     Art Competitions Mixed Painting, Unknown Event   \n",
       "270200  Art Competitions     Art Competitions Mixed Painting, Unknown Event   \n",
       "\n",
       "       Medal  \n",
       "1252     NaN  \n",
       "4282     NaN  \n",
       "4283     NaN  \n",
       "4862     NaN  \n",
       "4864     NaN  \n",
       "...      ...  \n",
       "269994   NaN  \n",
       "269995   NaN  \n",
       "269997   NaN  \n",
       "269999   NaN  \n",
       "270200   NaN  \n",
       "\n",
       "[1385 rows x 15 columns]"
      ]
     },
     "execution_count": 9,
     "metadata": {},
     "output_type": "execute_result"
    }
   ],
   "source": [
    "df[df.duplicated()]"
   ]
  },
  {
   "cell_type": "code",
   "execution_count": 10,
   "metadata": {},
   "outputs": [
    {
     "data": {
      "text/plain": [
       "np.int64(1385)"
      ]
     },
     "execution_count": 10,
     "metadata": {},
     "output_type": "execute_result"
    }
   ],
   "source": [
    "df.duplicated().sum()"
   ]
  },
  {
   "cell_type": "markdown",
   "metadata": {},
   "source": [
    "It seems that most duplicate values are in Art Competitions beteween 1920 and 1950"
   ]
  },
  {
   "cell_type": "markdown",
   "metadata": {},
   "source": [
    "### Finding missing values"
   ]
  },
  {
   "cell_type": "code",
   "execution_count": 11,
   "metadata": {},
   "outputs": [
    {
     "data": {
      "text/plain": [
       "ID             0\n",
       "Name           0\n",
       "Sex            0\n",
       "Age         9474\n",
       "Height     60171\n",
       "Weight     62875\n",
       "Team           0\n",
       "NOC            0\n",
       "Games          0\n",
       "Year           0\n",
       "Season         0\n",
       "City           0\n",
       "Sport          0\n",
       "Event          0\n",
       "Medal     231333\n",
       "dtype: int64"
      ]
     },
     "execution_count": 11,
     "metadata": {},
     "output_type": "execute_result"
    }
   ],
   "source": [
    "df.isnull().sum()"
   ]
  },
  {
   "cell_type": "code",
   "execution_count": 12,
   "metadata": {},
   "outputs": [
    {
     "data": {
      "text/plain": [
       "<Axes: >"
      ]
     },
     "execution_count": 12,
     "metadata": {},
     "output_type": "execute_result"
    },
    {
     "data": {
      "image/png": "[encoded data removed]",
      "text/plain": [
       "<Figure size 640x480 with 1 Axes>"
      ]
     },
     "metadata": {},
     "output_type": "display_data"
    }
   ],
   "source": [
    "sns.heatmap(df.isnull(), cbar = False)"
   ]
  },
  {
   "cell_type": "markdown",
   "metadata": {},
   "source": [
    "Do the same visualisation for the dataset that is sorted by years."
   ]
  },
  {
   "cell_type": "code",
   "execution_count": 13,
   "metadata": {},
   "outputs": [
    {
     "data": {
      "text/plain": [
       "<Axes: ylabel='Year'>"
      ]
     },
     "execution_count": 13,
     "metadata": {},
     "output_type": "execute_result"
    },
    {
     "data": {
      "image/png": "[encoded data removed]",
      "text/plain": [
       "<Figure size 640x480 with 1 Axes>"
      ]
     },
     "metadata": {},
     "output_type": "display_data"
    }
   ],
   "source": [
    "df_to_sort_by_year.index = df_to_sort_by_year['Year']\n",
    "sns.heatmap(df_to_sort_by_year.isnull(), cbar = False)\n"
   ]
  },
  {
   "cell_type": "markdown",
   "metadata": {},
   "source": [
    "You can see that there is a clear trend in the data. Up to 1960 there are many missing values for the Height and Weight columns. After 1960 it looks like there are just some single values missing in these two columns. There will be a visualisation of the mean/median height and weigth development some cells below. That's the reason why the visualisation above is included. "
   ]
  },
  {
   "cell_type": "markdown",
   "metadata": {},
   "source": [
    "## Cleaning the dataset"
   ]
  },
  {
   "cell_type": "markdown",
   "metadata": {},
   "source": [
    "### Removing the duplicates"
   ]
  },
  {
   "cell_type": "code",
   "execution_count": 14,
   "metadata": {},
   "outputs": [
    {
     "name": "stdout",
     "output_type": "stream",
     "text": [
      "Number of duplicate values before cleaning:  1385\n",
      "Number of duplicate values after cleaning:   0\n"
     ]
    }
   ],
   "source": [
    "print('Number of duplicate values before cleaning: ', df.duplicated().sum())\n",
    "df.drop_duplicates(inplace = True)\n",
    "print('Number of duplicate values after cleaning:  ', df.duplicated().sum())"
   ]
  },
  {
   "cell_type": "markdown",
   "metadata": {},
   "source": [
    "### Dropping 'Games' column"
   ]
  },
  {
   "cell_type": "markdown",
   "metadata": {},
   "source": [
    "The 'Games' column contains the same values as the 'Year' and 'Season' columns. As this provides no additional value it can be dropped. "
   ]
  },
  {
   "cell_type": "code",
   "execution_count": null,
   "metadata": {},
   "outputs": [],
   "source": [
    "df.drop(['Games'], axis = 1, inplace = True)"
   ]
  },
  {
   "cell_type": "markdown",
   "metadata": {},
   "source": [
    "### Dealing with missing values"
   ]
  },
  {
   "cell_type": "markdown",
   "metadata": {},
   "source": [
    "#### Age"
   ]
  },
  {
   "cell_type": "code",
   "execution_count": null,
   "metadata": {},
   "outputs": [],
   "source": [
    "df.Age.fillna(round(df.Age.median()), inplace = True)"
   ]
  },
  {
   "cell_type": "markdown",
   "metadata": {},
   "source": [
    "#### Height"
   ]
  },
  {
   "cell_type": "code",
   "execution_count": null,
   "metadata": {},
   "outputs": [],
   "source": [
    "df.Height.fillna(round(df.Height.median()), inplace = True)"
   ]
  },
  {
   "cell_type": "markdown",
   "metadata": {},
   "source": [
    "#### Weight"
   ]
  },
  {
   "cell_type": "code",
   "execution_count": null,
   "metadata": {},
   "outputs": [],
   "source": [
    "df.Weight.fillna(round(df.Weight.median()), inplace = True)"
   ]
  },
  {
   "cell_type": "markdown",
   "metadata": {},
   "source": [
    "## Exploring the data"
   ]
  },
  {
   "cell_type": "markdown",
   "metadata": {},
   "source": [
    "### On country-level"
   ]
  },
  {
   "cell_type": "markdown",
   "metadata": {},
   "source": [
    "#### Which countries have sent the most athletes each year?"
   ]
  },
  {
   "cell_type": "code",
   "execution_count": 22,
   "metadata": {},
   "outputs": [
    {
     "data": {
      "image/png": "[encoded data removed]",
      "text/plain": [
       "<Figure size 2000x600 with 1 Axes>"
      ]
     },
     "metadata": {},
     "output_type": "display_data"
    }
   ],
   "source": [
    "# Group by Year and NOC, count athletes, then get the top country for each year\n",
    "top_athletes_countries = df.groupby(['Year', 'NOC']).size().reset_index(name='count')\n",
    "top_athletes_countries = top_athletes_countries.loc[top_athletes_countries.groupby('Year')['count'].idxmax()]\n",
    "\n",
    "# Create a color map for unique countries\n",
    "unique_countries = top_athletes_countries['NOC'].unique()\n",
    "colors = plt.cm.get_cmap('tab20')(np.linspace(0, 1, len(unique_countries)))\n",
    "color_dict = dict(zip(unique_countries, colors))\n",
    "\n",
    "# Create the visualization\n",
    "plt.figure(figsize=(20,6))\n",
    "\n",
    "# Plot bars with different colors based on country\n",
    "for i, row in top_athletes_countries.iterrows():\n",
    "    plt.bar(row['Year'], row['count'], color=color_dict[row['NOC']])\n",
    "    plt.text(row['Year'], row['count'], row['NOC'], \n",
    "             ha='center', va='bottom')\n",
    "\n",
    "plt.title('Country with Most Athletes per Year')\n",
    "plt.xlabel('Year')\n",
    "plt.ylabel('Number of Athletes')\n",
    "plt.xticks(rotation=45)\n",
    "plt.grid(True)\n",
    "\n",
    "# Add legend\n",
    "legend_elements = [plt.Rectangle((0,0),1,1, color=color_dict[country], label=country) \n",
    "                  for country in unique_countries]\n",
    "plt.legend(handles=legend_elements, bbox_to_anchor=(1.05, 1), loc='upper left')\n",
    "\n",
    "plt.tight_layout()\n",
    "plt.show()"
   ]
  },
  {
   "cell_type": "markdown",
   "metadata": {},
   "source": [
    "The USA have sent the most athletes for most events. There was more diversity before the Second World War."
   ]
  },
  {
   "cell_type": "markdown",
   "metadata": {},
   "source": [
    "#### Which countries got the most medals each year?"
   ]
  },
  {
   "cell_type": "markdown",
   "metadata": {},
   "source": [
    "When trying to anser this question, a major problem arised. According to the exemplary output below, the United States earned 139 Gold, 54 Silver and 71 Bronze medals. According to Wikipedia, they only got 46 Gold, 37 Silver and 38 Bronze medals. \n",
    "The reason for this is probably that there are team events where in the dataset every athlete has a medal, but in the official count they only count as one medal. This leads to an overestimated medal count if a country is successful in team sports. \n",
    "By combining the corresponding athletes and count the team event as one, the correct number of medals should be the result. "
   ]
  },
  {
   "cell_type": "code",
   "execution_count": null,
   "metadata": {},
   "outputs": [
    {
     "data": {
      "text/plain": [
       "Medal\n",
       "Bronze     71\n",
       "Gold      139\n",
       "Silver     54\n",
       "dtype: int64"
      ]
     },
     "execution_count": 20,
     "metadata": {},
     "output_type": "execute_result"
    }
   ],
   "source": [
    "usa_2016_medals = df[(df['Year'] == 2016) & (df['NOC'] == 'USA') & (df['Medal'].notnull())]\n",
    "usa_2016_medals.groupby('Medal').size()"
   ]
  },
  {
   "cell_type": "markdown",
   "metadata": {},
   "source": [
    "#### More athletes → more gold medals?"
   ]
  },
  {
   "cell_type": "code",
   "execution_count": 27,
   "metadata": {},
   "outputs": [
    {
     "data": {
      "image/png": "[encoded data removed]",
      "text/plain": [
       "<Figure size 1200x600 with 1 Axes>"
      ]
     },
     "metadata": {},
     "output_type": "display_data"
    }
   ],
   "source": [
    "# Create a dataset with number of athletes and medals per country per year\n",
    "athlete_medal_correlation = df.groupby(['Year', 'NOC']).agg({\n",
    "    'ID': 'count',  # count of athletes\n",
    "    'Medal': lambda x: x.notna().sum()  # count of medals\n",
    "}).reset_index()\n",
    "\n",
    "athlete_medal_correlation.columns = ['Year', 'NOC', 'Athletes', 'Medals']\n",
    "\n",
    "# Calculate correlation\n",
    "correlation = athlete_medal_correlation['Athletes'].corr(athlete_medal_correlation['Medals'])\n",
    "\n",
    "# Create scatter plot\n",
    "plt.figure(figsize=(12, 6))\n",
    "plt.scatter(athlete_medal_correlation['Athletes'], athlete_medal_correlation['Medals'], alpha=0.5)\n",
    "plt.xlabel('Number of Athletes')\n",
    "plt.ylabel('Number of Medals')\n",
    "plt.title(f'Number of Athletes vs Number of Medals\\nCorrelation: {correlation:.2f}')\n",
    "\n",
    "# Add trend line\n",
    "z = np.polyfit(athlete_medal_correlation['Athletes'], athlete_medal_correlation['Medals'], 1)\n",
    "p = np.poly1d(z)\n",
    "plt.plot(athlete_medal_correlation['Athletes'], p(athlete_medal_correlation['Athletes']), \"r--\", alpha=0.8)\n",
    "\n",
    "plt.grid(True)\n",
    "plt.show()"
   ]
  },
  {
   "cell_type": "markdown",
   "metadata": {},
   "source": [
    "### On athletes-level"
   ]
  },
  {
   "cell_type": "markdown",
   "metadata": {},
   "source": [
    "#### Distribution of medals"
   ]
  },
  {
   "cell_type": "code",
   "execution_count": null,
   "metadata": {},
   "outputs": [],
   "source": [
    "print('Medal distribution: ', df['Medal'].value_counts())"
   ]
  },
  {
   "cell_type": "markdown",
   "metadata": {},
   "source": [
    "When looking at the medals, you can see that Gold > Bronze > Silver. \n",
    "Usually they should be the same number. Finding out whether there are too many gold or not enough silver medals in the dataset and which medals belong to each other would take way too much time. Regarding the small difference (261 'missing' Silver medals) and the lenght of the dataset (269731 total values) I will just ignore this.  "
   ]
  },
  {
   "cell_type": "markdown",
   "metadata": {},
   "source": [
    "#### Distribution of athletes by gender"
   ]
  },
  {
   "cell_type": "code",
   "execution_count": null,
   "metadata": {},
   "outputs": [],
   "source": [
    "df.Sex.value_counts().plot(kind = 'bar', title = 'Athlete Gender Distribution', color = ['tab:blue' , 'tab:red'],  grid = True)"
   ]
  },
  {
   "cell_type": "code",
   "execution_count": null,
   "metadata": {},
   "outputs": [],
   "source": [
    "print(f\"{df.Sex.value_counts()[\"M\"]} men and {df.Sex.value_counts()[\"F\"]} women have participated in the Olympic Games\")"
   ]
  },
  {
   "cell_type": "markdown",
   "metadata": {},
   "source": [
    "#### Distribution of athletes by gender and year"
   ]
  },
  {
   "cell_type": "code",
   "execution_count": null,
   "metadata": {},
   "outputs": [],
   "source": [
    "# Group by year and gender, count athletes\n",
    "athletes_by_year_gender = df.groupby(['Year', 'Sex']).size().unstack()\n",
    "\n",
    "# Winter games have much less participants, so drop them to have a better looking plot\n",
    "athletes_by_year_gender.drop([1994, 1998, 2002, 2006, 2010, 2014], inplace = True)\n",
    "\n",
    "# Create plot\n",
    "plt.figure(figsize = (15, 5))\n",
    "\n",
    "athletes_by_year_gender.plot(kind = 'line', stacked = False, color = ['tab:red', 'tab:blue'], marker = 'o')\n",
    "\n",
    "plt.title('Number of Male and Female Athletes per Year')\n",
    "plt.xlabel('Year')\n",
    "plt.ylabel('Number of Athletes')\n",
    "plt.legend(title = 'Gender')\n",
    "plt.xticks(rotation = 45)\n",
    "\n",
    "plt.show()\n"
   ]
  },
  {
   "cell_type": "markdown",
   "metadata": {},
   "source": [
    "#### Age distribution"
   ]
  },
  {
   "cell_type": "code",
   "execution_count": null,
   "metadata": {},
   "outputs": [],
   "source": [
    "sns.boxplot(x = df.Age)\n",
    "plt.title('Age Distribution of Athletes')"
   ]
  },
  {
   "cell_type": "markdown",
   "metadata": {},
   "source": [
    "#### Did the mean and the median height change over the decades?"
   ]
  },
  {
   "cell_type": "code",
   "execution_count": null,
   "metadata": {},
   "outputs": [],
   "source": [
    "mean_height_by_year = {year: df[df['Year'] == year]['Height'].mean() for year in df['Year'].unique()}\n",
    "median_height_by_year = {year: df[df['Year'] == year]['Height'].median() for year in df['Year'].unique()}\n",
    "\n",
    "plt.figure(figsize = (20, 5))\n",
    "sns.lineplot(x = list(mean_height_by_year.keys()), y = list(mean_height_by_year.values()), color = 'tab:blue', label = 'Mean Height', marker = 'o')\n",
    "for year, height in mean_height_by_year.items():\n",
    "    plt.text(year, height, str(year), color = 'blue', fontsize = 8, ha = 'right')\n",
    "\n",
    "sns.lineplot(x = list(median_height_by_year.keys()), y = list(median_height_by_year.values()), color = 'tab:red', label = 'Median Height', marker = 'o')\n",
    "for year, height in median_height_by_year.items():\n",
    "    plt.text(year, height, str(year), color = 'red', fontsize = 8, ha = 'right')\n",
    "\n",
    "plt.title('Mean and Median Height of Athletes by Year') \n",
    "plt.ylabel('Height (cm)')\n",
    "plt.legend()\n",
    "plt.show()"
   ]
  },
  {
   "cell_type": "code",
   "execution_count": null,
   "metadata": {},
   "outputs": [],
   "source": [
    "median_height_until_1956 = df[df['Year'] <= 1956]['Height'].median()\n",
    "median_height_after_1956 = df[df['Year'] > 1956]['Height'].median()\n",
    "\n",
    "print('Until 1956: ', median_height_until_1956, '    After 1956: ', median_height_after_1956)\n",
    "print(median_height_until_1956 * 10)"
   ]
  },
  {
   "cell_type": "markdown",
   "metadata": {},
   "source": [
    "It seems like there is some change of measurement in the dataset. Until 1956 the median height was at about 24 units and from 1960 on it was 175 units (most probably cm). So any analysis including the height should be limited to the Games after 1960."
   ]
  },
  {
   "cell_type": "markdown",
   "metadata": {},
   "source": [
    "#### Did the mean and the median height change over the decades?"
   ]
  },
  {
   "cell_type": "code",
   "execution_count": null,
   "metadata": {},
   "outputs": [],
   "source": [
    "mean_weight_by_year = {year: df[df['Year'] == year]['Weight'].mean() for year in df['Year'].unique()}\n",
    "median_weight_by_year = {year: df[df['Year'] == year]['Weight'].median() for year in df['Year'].unique()}\n",
    "\n",
    "plt.figure(figsize = (10, 5))\n",
    "sns.lineplot(x = list(mean_weight_by_year.keys()), y = list(mean_weight_by_year.values()), color = 'tab:blue', label = 'Mean Weight', marker = 'o')\n",
    "sns.lineplot(x = list(median_weight_by_year.keys()), y = list(median_weight_by_year.values()), color = 'tab:red', label = 'Median Weight', marker = 'o')\n",
    "\n",
    "plt.title('Mean and Median Weight of Athletes by Year') \n",
    "plt.ylabel('Weight (kg)')\n",
    "plt.legend()\n",
    "plt.show()"
   ]
  },
  {
   "cell_type": "markdown",
   "metadata": {},
   "source": [
    "The same problem with the height occurs also when looking at the median and mean weight. It looks like there is some change in measurement after the 1956 olympics. \n",
    "That is the reason why I duplicated the dataset in the beginning of the analysis afterwards and created the second heatmap which visualizes the missing values for the years. \n"
   ]
  },
  {
   "cell_type": "markdown",
   "metadata": {},
   "source": [
    "#### Did the mean and the median age change over the decades?"
   ]
  },
  {
   "cell_type": "code",
   "execution_count": null,
   "metadata": {},
   "outputs": [],
   "source": [
    "mean_age_by_year = {year: df[df['Year'] == year]['Age'].mean() for year in df['Year'].unique()}\n",
    "median_age_by_year = {year: df[df['Year'] == year]['Age'].median() for year in df['Year'].unique()}\n",
    "\n",
    "plt.figure(figsize = (10, 5))\n",
    "sns.lineplot(x = list(mean_age_by_year.keys()), y = list(mean_age_by_year.values()), color = 'tab:blue', label = 'Mean Age', marker = 'o')\n",
    "sns.lineplot(x = list(median_age_by_year.keys()), y = list(median_age_by_year.values()), color = 'tab:red', label = 'Median Age', marker = 'o')\n",
    "\n",
    "plt.title('Mean and Median Age of Athletes by Year') \n",
    "plt.ylabel('Age')\n",
    "plt.legend()\n",
    "plt.show()"
   ]
  },
  {
   "cell_type": "markdown",
   "metadata": {},
   "source": [
    "### "
   ]
  },
  {
   "cell_type": "code",
   "execution_count": null,
   "metadata": {},
   "outputs": [],
   "source": [
    "plt.figure(figsize = (20, 5))\n",
    "sns.boxplot(x = 'Year', y = 'Age', hue = 'Sex', data = df, palette = {'M': 'blue', 'F': 'red'})\n",
    "plt.xlabel('Olympiad Year')\n",
    "plt.ylabel('Age')\n",
    "plt.title('Age Distribution by Olympiad Year and Gender')\n",
    "plt.show()"
   ]
  },
  {
   "cell_type": "code",
   "execution_count": null,
   "metadata": {},
   "outputs": [],
   "source": []
  },
  {
   "cell_type": "code",
   "execution_count": null,
   "metadata": {},
   "outputs": [],
   "source": []
  },
  {
   "cell_type": "markdown",
   "metadata": {},
   "source": [
    "### How did the (former) Soviet Union evolve?"
   ]
  }
 ],
 "metadata": {
  "kernelspec": {
   "display_name": "athletes_env",
   "language": "python",
   "name": "python3"
  },
  "language_info": {
   "codemirror_mode": {
    "name": "ipython",
    "version": 3
   },
   "file_extension": ".py",
   "mimetype": "text/x-python",
   "name": "python",
   "nbconvert_exporter": "python",
   "pygments_lexer": "ipython3",
   "version": "3.13.2"
  }
 },
 "nbformat": 4,
 "nbformat_minor": 2
}
