{
  "cells": [
    {
      "cell_type": "markdown",
      "metadata": {
        "colab_type": "text",
        "id": "view-in-github"
      },
      "source": [
        "<a href=\"https://colab.research.google.com/github/njuliann/athlete_events/blob/main/athletes.ipynb\" target=\"_parent\"><img src=\"https://colab.research.google.com/assets/colab-badge.svg\" alt=\"Open In Colab\"/></a>"
      ]
    },
    {
      "cell_type": "markdown",
      "id": "ywUCE8jPZbx2",
      "metadata": {
        "id": "ywUCE8jPZbx2"
      },
      "source": [
        "# Importing and preparing the data"
      ]
    },
    {
      "cell_type": "markdown",
      "id": "Ds9K5LafWiKz",
      "metadata": {
        "id": "Ds9K5LafWiKz"
      },
      "source": [
        "Import necessary modules"
      ]
    },
    {
      "cell_type": "code",
      "execution_count": 2,
      "id": "565a1c52-3313-4add-827e-d9921cbb921d",
      "metadata": {
        "id": "565a1c52-3313-4add-827e-d9921cbb921d"
      },
      "outputs": [],
      "source": [
        "import pandas as pd\n",
        "import numpy as np\n",
        "import matplotlib.pyplot as plt\n",
        "import seaborn as sns\n",
        "import statistics"
      ]
    },
    {
      "cell_type": "markdown",
      "id": "E-akjOrEUwmZ",
      "metadata": {
        "id": "E-akjOrEUwmZ"
      },
      "source": [
        "import dataset from github repo"
      ]
    },
    {
      "cell_type": "code",
      "execution_count": 3,
      "id": "4NOp-mRKTUQg",
      "metadata": {
        "id": "4NOp-mRKTUQg"
      },
      "outputs": [],
      "source": [
        "df = pd.read_csv(\"https://raw.githubusercontent.com/njuliann/athlete_events/refs/heads/main/athlete_events.csv\")"
      ]
    },
    {
      "cell_type": "markdown",
      "id": "aMOCcOmXU8EK",
      "metadata": {
        "id": "aMOCcOmXU8EK"
      },
      "source": [
        "check the shape of the dataset to see whether the import has worked successfully (had some issues with this)"
      ]
    },
    {
      "cell_type": "code",
      "execution_count": 14,
      "id": "kIMrFfSpSsh8",
      "metadata": {
        "colab": {
          "base_uri": "https://localhost:8080/"
        },
        "id": "kIMrFfSpSsh8",
        "outputId": "099666ac-499b-4562-db4d-ec493d7ed8b8"
      },
      "outputs": [
        {
          "data": {
            "text/plain": [
              "[True]"
            ]
          },
          "execution_count": 14,
          "metadata": {},
          "output_type": "execute_result"
        }
      ],
      "source": [
        "[True if df.shape == (271116, 15) else False]"
      ]
    },
    {
      "cell_type": "markdown",
      "id": "qvINYv_cWdmJ",
      "metadata": {
        "id": "qvINYv_cWdmJ"
      },
      "source": [
        "Drop the \"Games\" column as the data is already in the \"Year\" and \"Season\" columns. For example:\n",
        "* Games: 1992 Summer\n",
        "* Year: 1992\n",
        "* Season: Summer"
      ]
    },
    {
      "cell_type": "code",
      "execution_count": 15,
      "id": "93ae2dd4",
      "metadata": {
        "id": "93ae2dd4"
      },
      "outputs": [],
      "source": [
        "df.drop(['Games'], axis = 1, inplace = True)"
      ]
    },
    {
      "cell_type": "code",
      "execution_count": 16,
      "id": "7c905d34",
      "metadata": {
        "colab": {
          "base_uri": "https://localhost:8080/"
        },
        "id": "7c905d34",
        "outputId": "e1a099ba-58d7-4e3c-d817-78692f8ed112"
      },
      "outputs": [
        {
          "name": "stdout",
          "output_type": "stream",
          "text": [
            "(271116, 14)\n"
          ]
        }
      ],
      "source": [
        "print(df.shape) # now there should be one less column"
      ]
    },
    {
      "cell_type": "markdown",
      "id": "3yg9obGQZiiw",
      "metadata": {
        "id": "3yg9obGQZiiw"
      },
      "source": [
        "# Getting an overview of the data"
      ]
    },
    {
      "cell_type": "markdown",
      "id": "XVGPDTywX9UV",
      "metadata": {
        "id": "XVGPDTywX9UV"
      },
      "source": [
        "Print an overview of the ages."
      ]
    },
    {
      "cell_type": "code",
      "execution_count": 17,
      "id": "7288bf20",
      "metadata": {
        "colab": {
          "base_uri": "https://localhost:8080/"
        },
        "id": "7288bf20",
        "outputId": "987db9c9-81e2-4fef-bd48-06e5660d771f"
      },
      "outputs": [
        {
          "name": "stdout",
          "output_type": "stream",
          "text": [
            " Maximum Age:  97.0 \n",
            " Minimum Age:  10.0 \n",
            " Mean Age:  25.556898357297374 \n",
            " Median Age: 24.0\n"
          ]
        }
      ],
      "source": [
        "print(\" Maximum Age: \" , df.Age.max(), \"\\n\" ,\n",
        "      \"Minimum Age: \" , df.Age.min(), \"\\n\",\n",
        "      \"Mean Age: \", df.Age.mean(), \"\\n\", \n",
        "      \"Median Age:\", df.Age.median())"
      ]
    },
    {
      "cell_type": "markdown",
      "id": "u1HHZ8HGY1Od",
      "metadata": {
        "id": "u1HHZ8HGY1Od"
      },
      "source": [
        "Get an overview of the number of values in the dataset"
      ]
    },
    {
      "cell_type": "code",
      "execution_count": 18,
      "id": "a1b78644",
      "metadata": {
        "colab": {
          "base_uri": "https://localhost:8080/",
          "height": 523
        },
        "collapsed": true,
        "id": "a1b78644",
        "outputId": "721e98b6-5fbe-4c03-c6a3-ba4a9738d6a3"
      },
      "outputs": [
        {
          "data": {
            "text/plain": [
              "ID        271116\n",
              "Name      271116\n",
              "Sex       271116\n",
              "Age       261642\n",
              "Height    210945\n",
              "Weight    208241\n",
              "Team      271116\n",
              "NOC       271116\n",
              "Year      271116\n",
              "Season    271116\n",
              "City      271116\n",
              "Sport     271116\n",
              "Event     271116\n",
              "Medal      39783\n",
              "dtype: int64"
            ]
          },
          "execution_count": 18,
          "metadata": {},
          "output_type": "execute_result"
        }
      ],
      "source": [
        "df.count()"
      ]
    },
    {
      "cell_type": "markdown",
      "id": "qxjn5T7VY9bK",
      "metadata": {
        "id": "qxjn5T7VY9bK"
      },
      "source": [
        "See how many missing values are there in the dataset."
      ]
    },
    {
      "cell_type": "code",
      "execution_count": 19,
      "id": "97e67edd",
      "metadata": {
        "colab": {
          "base_uri": "https://localhost:8080/"
        },
        "collapsed": true,
        "id": "97e67edd",
        "outputId": "aef8cb27-4088-4970-ed39-7b29a4b4fe88"
      },
      "outputs": [
        {
          "name": "stdout",
          "output_type": "stream",
          "text": [
            "ID             0\n",
            "Name           0\n",
            "Sex            0\n",
            "Age         9474\n",
            "Height     60171\n",
            "Weight     62875\n",
            "Team           0\n",
            "NOC            0\n",
            "Year           0\n",
            "Season         0\n",
            "City           0\n",
            "Sport          0\n",
            "Event          0\n",
            "Medal     231333\n",
            "dtype: int64\n"
          ]
        }
      ],
      "source": [
        "print(df.isnull().sum())"
      ]
    },
    {
      "cell_type": "code",
      "execution_count": 20,
      "id": "3e1ff1e3",
      "metadata": {
        "colab": {
          "base_uri": "https://localhost:8080/",
          "height": 466
        },
        "collapsed": true,
        "id": "3e1ff1e3",
        "outputId": "00a0d56c-00c9-4b0d-89a1-1131b91c28c1"
      },
      "outputs": [
        {
          "data": {
            "text/plain": [
              "<Axes: xlabel='Age'>"
            ]
          },
          "execution_count": 20,
          "metadata": {},
          "output_type": "execute_result"
        },
        {
          "data": {
            "image/png": "[encoded data removed]",
            "text/plain": [
              "<Figure size 640x480 with 1 Axes>"
            ]
          },
          "metadata": {},
          "output_type": "display_data"
        }
      ],
      "source": [
        "sns.boxplot(x=df[\"Age\"])"
      ]
    },
    {
      "cell_type": "code",
      "execution_count": 21,
      "id": "047ab976",
      "metadata": {
        "colab": {
          "base_uri": "https://localhost:8080/",
          "height": 466
        },
        "collapsed": true,
        "id": "047ab976",
        "outputId": "d072b599-8e6d-48d7-ebd8-70f20c7add92"
      },
      "outputs": [
        {
          "data": {
            "text/plain": [
              "<Axes: xlabel='Age', ylabel='Count'>"
            ]
          },
          "execution_count": 21,
          "metadata": {},
          "output_type": "execute_result"
        },
        {
          "data": {
            "image/png": "[encoded data removed]",
            "text/plain": [
              "<Figure size 640x480 with 1 Axes>"
            ]
          },
          "metadata": {},
          "output_type": "display_data"
        }
      ],
      "source": [
        "sns.histplot(df, x = \"Age\", hue = \"Medal\", hue_order=(\"Gold\", \"Silver\", \"Bronze\"), multiple = \"stack\", )"
      ]
    },
    {
      "cell_type": "code",
      "execution_count": 37,
      "id": "4RZ4PIEax0jY",
      "metadata": {
        "colab": {
          "base_uri": "https://localhost:8080/",
          "height": 564
        },
        "collapsed": true,
        "id": "4RZ4PIEax0jY",
        "outputId": "f46454b5-b7ce-4ea4-c043-84578645c09f"
      },
      "outputs": [
        {
          "data": {
            "image/png": "[encoded data removed]",
            "text/plain": [
              "<Figure size 1200x600 with 1 Axes>"
            ]
          },
          "metadata": {},
          "output_type": "display_data"
        }
      ],
      "source": [
        "plt.figure(figsize=(12, 6))\n",
        "sns.histplot(df, x=\"Age\", hue=\"Medal\", multiple=\"dodge\", palette={\"Gold\": \"gold\", \"Silver\": \"silver\", \"Bronze\": \"brown\"}, shrink = 2)\n",
        "plt.title('Number of Medals per Age Group')\n",
        "plt.xlabel('Age')\n",
        "plt.ylabel('Number of Medals')\n",
        "plt.ticklabel_format(style=\"scientific\", )\n",
        "plt.tick_params(\"x\")\n",
        "plt.show()"
      ]
    },
    {
      "cell_type": "markdown",
      "id": "bEc--DO1vx21",
      "metadata": {
        "id": "bEc--DO1vx21"
      },
      "source": [
        "Some pivot tests"
      ]
    },
    {
      "cell_type": "code",
      "execution_count": null,
      "id": "dQtlZyHLGDVX",
      "metadata": {
        "colab": {
          "base_uri": "https://localhost:8080/",
          "height": 523
        },
        "collapsed": true,
        "id": "dQtlZyHLGDVX",
        "outputId": "7502d158-30e1-4478-f6dd-009b19f7bd97"
      },
      "outputs": [],
      "source": [
        "mean_age = df.pivot_table(\n",
        "    index = 'Year',\n",
        "    values = 'Age',\n",
        "    aggfunc = 'mean')\n",
        "\n",
        "mean_age.plot(\n",
        "    kind = \"bar\",\n",
        "    figsize = (50, 5),\n",
        "    color = 'blue',\n",
        "    )\n",
        "\n",
        "## To do: age change per year"
      ]
    },
    {
      "cell_type": "code",
      "execution_count": null,
      "id": "916387ac",
      "metadata": {
        "colab": {
          "base_uri": "https://localhost:8080/",
          "height": 218
        },
        "collapsed": true,
        "id": "916387ac",
        "outputId": "2bf7f7de-c368-417b-ce93-298cdcf1273b"
      },
      "outputs": [],
      "source": [
        "pivot_medals = df.pivot_table(\n",
        "    index = 'Age',\n",
        "    columns = 'Medal',\n",
        "    values = 'ID',\n",
        "    aggfunc = 'sum',\n",
        "    fill_value = 0)\n",
        "\n",
        "pivot_medals.plot(\n",
        "    kind = \"bar\",\n",
        "    stacked = False,\n",
        "    figsize = (50, 5),\n",
        "    color = ['brown', 'gold', 'silver'],\n",
        "    )"
      ]
    },
    {
      "cell_type": "markdown",
      "id": "NXsRTkX-HiTs",
      "metadata": {
        "id": "NXsRTkX-HiTs"
      },
      "source": [
        "Country-wise grouping"
      ]
    },
    {
      "cell_type": "code",
      "execution_count": 50,
      "id": "o7bE4P8AHlWY",
      "metadata": {
        "id": "o7bE4P8AHlWY"
      },
      "outputs": [
        {
          "data": {
            "text/plain": [
              "Team\n",
              "30. Februar                2\n",
              "A North American Team      4\n",
              "Acipactli                  3\n",
              "Acturus                    2\n",
              "Afghanistan              126\n",
              "                        ... \n",
              "Zambia                   183\n",
              "Zefyros                    2\n",
              "Zimbabwe                 309\n",
              "Zut                        3\n",
              "rn-2                       5\n",
              "Name: Team, Length: 1184, dtype: int64"
            ]
          },
          "execution_count": 50,
          "metadata": {},
          "output_type": "execute_result"
        }
      ],
      "source": [
        "\n",
        "df.groupby(\"Team\")[\"Team\"].count()"
      ]
    },
    {
      "cell_type": "code",
      "execution_count": 67,
      "id": "eccbbfbc",
      "metadata": {},
      "outputs": [
        {
          "data": {
            "text/html": [
              "<div>\n",
              "<style scoped>\n",
              "    .dataframe tbody tr th:only-of-type {\n",
              "        vertical-align: middle;\n",
              "    }\n",
              "\n",
              "    .dataframe tbody tr th {\n",
              "        vertical-align: top;\n",
              "    }\n",
              "\n",
              "    .dataframe thead th {\n",
              "        text-align: right;\n",
              "    }\n",
              "</style>\n",
              "<table border=\"1\" class=\"dataframe\">\n",
              "  <thead>\n",
              "    <tr style=\"text-align: right;\">\n",
              "      <th></th>\n",
              "      <th>ID</th>\n",
              "      <th>Name</th>\n",
              "      <th>Sex</th>\n",
              "      <th>Age</th>\n",
              "      <th>Height</th>\n",
              "      <th>Weight</th>\n",
              "      <th>Team</th>\n",
              "      <th>NOC</th>\n",
              "      <th>Year</th>\n",
              "      <th>Season</th>\n",
              "      <th>City</th>\n",
              "      <th>Sport</th>\n",
              "      <th>Event</th>\n",
              "      <th>Medal</th>\n",
              "    </tr>\n",
              "  </thead>\n",
              "  <tbody>\n",
              "    <tr>\n",
              "      <th>264108</th>\n",
              "      <td>132159</td>\n",
              "      <td>Mieko Yagi</td>\n",
              "      <td>F</td>\n",
              "      <td>58.0</td>\n",
              "      <td>160.0</td>\n",
              "      <td>53.0</td>\n",
              "      <td>Dow Jones</td>\n",
              "      <td>JPN</td>\n",
              "      <td>2008</td>\n",
              "      <td>Summer</td>\n",
              "      <td>Beijing</td>\n",
              "      <td>Equestrianism</td>\n",
              "      <td>Equestrianism Mixed Dressage, Team</td>\n",
              "      <td>NaN</td>\n",
              "    </tr>\n",
              "  </tbody>\n",
              "</table>\n",
              "</div>"
            ],
            "text/plain": [
              "            ID        Name Sex   Age  Height  Weight       Team  NOC  Year  \\\n",
              "264108  132159  Mieko Yagi   F  58.0   160.0    53.0  Dow Jones  JPN  2008   \n",
              "\n",
              "        Season     City          Sport                               Event  \\\n",
              "264108  Summer  Beijing  Equestrianism  Equestrianism Mixed Dressage, Team   \n",
              "\n",
              "       Medal  \n",
              "264108   NaN  "
            ]
          },
          "execution_count": 67,
          "metadata": {},
          "output_type": "execute_result"
        }
      ],
      "source": [
        "df.query('Team == \"30. Februar\"')\n",
        "df.query('Team == \"Dow Jones\"')"
      ]
    },
    {
      "cell_type": "code",
      "execution_count": null,
      "metadata": {},
      "outputs": [],
      "source": [
        "[i for i in pd.unique(df.Team)]"
      ]
    },
    {
      "cell_type": "code",
      "execution_count": 90,
      "id": "d5daaee0",
      "metadata": {},
      "outputs": [
        {
          "ename": "TypeError",
          "evalue": "must be str, not Series",
          "output_type": "error",
          "traceback": [
            "\u001b[1;31m---------------------------------------------------------------------------\u001b[0m",
            "\u001b[1;31mTypeError\u001b[0m                                 Traceback (most recent call last)",
            "Cell \u001b[1;32mIn[90], line 1\u001b[0m\n\u001b[1;32m----> 1\u001b[0m \u001b[43m[\u001b[49m\u001b[43mj\u001b[49m\u001b[38;5;241;43m.\u001b[39;49m\u001b[43mcount\u001b[49m\u001b[43m(\u001b[49m\u001b[43mdf\u001b[49m\u001b[38;5;241;43m.\u001b[39;49m\u001b[43mTeam\u001b[49m\u001b[43m)\u001b[49m\u001b[43m \u001b[49m\u001b[38;5;28;43;01mfor\u001b[39;49;00m\u001b[43m \u001b[49m\u001b[43mj\u001b[49m\u001b[43m \u001b[49m\u001b[38;5;129;43;01min\u001b[39;49;00m\u001b[43m \u001b[49m\u001b[43mpd\u001b[49m\u001b[38;5;241;43m.\u001b[39;49m\u001b[43munique\u001b[49m\u001b[43m(\u001b[49m\u001b[43mdf\u001b[49m\u001b[38;5;241;43m.\u001b[39;49m\u001b[43mTeam\u001b[49m\u001b[43m)\u001b[49m\u001b[43m]\u001b[49m\n",
            "Cell \u001b[1;32mIn[90], line 1\u001b[0m, in \u001b[0;36m<listcomp>\u001b[1;34m(.0)\u001b[0m\n\u001b[1;32m----> 1\u001b[0m [\u001b[43mj\u001b[49m\u001b[38;5;241;43m.\u001b[39;49m\u001b[43mcount\u001b[49m\u001b[43m(\u001b[49m\u001b[43mdf\u001b[49m\u001b[38;5;241;43m.\u001b[39;49m\u001b[43mTeam\u001b[49m\u001b[43m)\u001b[49m \u001b[38;5;28;01mfor\u001b[39;00m j \u001b[38;5;129;01min\u001b[39;00m pd\u001b[38;5;241m.\u001b[39munique(df\u001b[38;5;241m.\u001b[39mTeam)]\n",
            "\u001b[1;31mTypeError\u001b[0m: must be str, not Series"
          ]
        }
      ],
      "source": [
        "[j.count(df.Team) for j in pd.unique(df.Team)]"
      ]
    },
    {
      "cell_type": "code",
      "execution_count": 95,
      "id": "e9a466c1",
      "metadata": {},
      "outputs": [
        {
          "name": "stdout",
          "output_type": "stream",
          "text": [
            "Team\n",
            "United States    17847\n",
            "France           11988\n",
            "Great Britain    11404\n",
            "Italy            10260\n",
            "Germany           9326\n",
            "                 ...  \n",
            "Briar                1\n",
            "Hannover             1\n",
            "Nan-2                1\n",
            "Brentina             1\n",
            "Digby                1\n",
            "Name: count, Length: 1184, dtype: int64\n"
          ]
        }
      ],
      "source": [
        "VC_Team = df.Team.value_counts()\n",
        "print(VC_Team)"
      ]
    },
    {
      "cell_type": "code",
      "execution_count": null,
      "id": "5f5d3f08",
      "metadata": {},
      "outputs": [],
      "source": []
    }
  ],
  "metadata": {
    "colab": {
      "include_colab_link": true,
      "provenance": [],
      "toc_visible": true
    },
    "kernelspec": {
      "display_name": "Python 3",
      "language": "python",
      "name": "python3"
    },
    "language_info": {
      "codemirror_mode": {
        "name": "ipython",
        "version": 3
      },
      "file_extension": ".py",
      "mimetype": "text/x-python",
      "name": "python",
      "nbconvert_exporter": "python",
      "pygments_lexer": "ipython3",
      "version": "3.11.11"
    }
  },
  "nbformat": 4,
  "nbformat_minor": 5
}
