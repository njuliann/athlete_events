{
  "cells": [
    {
      "cell_type": "markdown",
      "metadata": {
        "colab_type": "text",
        "id": "view-in-github"
      },
      "source": [
        "<a href=\"https://colab.research.google.com/github/njuliann/athlete_events/blob/main/athletes.ipynb\" target=\"_parent\"><img src=\"https://colab.research.google.com/assets/colab-badge.svg\" alt=\"Open In Colab\"/></a>"
      ]
    },
    {
      "cell_type": "markdown",
      "id": "ywUCE8jPZbx2",
      "metadata": {
        "id": "ywUCE8jPZbx2"
      },
      "source": [
        "# Importing the data"
      ]
    },
    {
      "cell_type": "markdown",
      "id": "Ds9K5LafWiKz",
      "metadata": {
        "id": "Ds9K5LafWiKz"
      },
      "source": [
        "Import necessary modules"
      ]
    },
    {
      "cell_type": "code",
      "execution_count": 1,
      "id": "565a1c52-3313-4add-827e-d9921cbb921d",
      "metadata": {
        "id": "565a1c52-3313-4add-827e-d9921cbb921d"
      },
      "outputs": [],
      "source": [
        "import pandas as pd\n",
        "import numpy as np\n",
        "import matplotlib.pyplot as plt\n",
        "import seaborn as sns\n",
        "import statistics"
      ]
    },
    {
      "cell_type": "markdown",
      "id": "E-akjOrEUwmZ",
      "metadata": {
        "id": "E-akjOrEUwmZ"
      },
      "source": [
        "import dataset from github repo"
      ]
    },
    {
      "cell_type": "code",
      "execution_count": 59,
      "id": "4NOp-mRKTUQg",
      "metadata": {
        "id": "4NOp-mRKTUQg"
      },
      "outputs": [],
      "source": [
        "df = pd.read_csv(\"https://raw.githubusercontent.com/njuliann/athlete_events/refs/heads/main/athlete_events.csv\")"
      ]
    },
    {
      "cell_type": "markdown",
      "id": "aMOCcOmXU8EK",
      "metadata": {
        "id": "aMOCcOmXU8EK"
      },
      "source": [
        "check the shape of the dataset to see whether the import has worked successfully (had some issues with this)"
      ]
    },
    {
      "cell_type": "code",
      "execution_count": 60,
      "id": "kIMrFfSpSsh8",
      "metadata": {
        "colab": {
          "base_uri": "https://localhost:8080/"
        },
        "id": "kIMrFfSpSsh8",
        "outputId": "099666ac-499b-4562-db4d-ec493d7ed8b8"
      },
      "outputs": [
        {
          "data": {
            "text/plain": [
              "[True]"
            ]
          },
          "execution_count": 60,
          "metadata": {},
          "output_type": "execute_result"
        }
      ],
      "source": [
        "[True if df.shape == (271116, 15) else False]"
      ]
    },
    {
      "cell_type": "markdown",
      "id": "4125ea74",
      "metadata": {},
      "source": [
        "# Cleaning the data"
      ]
    },
    {
      "cell_type": "markdown",
      "id": "qvINYv_cWdmJ",
      "metadata": {
        "id": "qvINYv_cWdmJ"
      },
      "source": [
        "Drop the \"Games\" column as the data is already in the \"Year\" and \"Season\" columns. For example:\n",
        "* Games: 1992 Summer\n",
        "* Year: 1992\n",
        "* Season: Summer"
      ]
    },
    {
      "cell_type": "code",
      "execution_count": 61,
      "id": "93ae2dd4",
      "metadata": {
        "id": "93ae2dd4"
      },
      "outputs": [],
      "source": [
        "df.drop(['Games'], axis = 1, inplace = True)"
      ]
    },
    {
      "cell_type": "code",
      "execution_count": 62,
      "id": "7c905d34",
      "metadata": {
        "colab": {
          "base_uri": "https://localhost:8080/"
        },
        "id": "7c905d34",
        "outputId": "e1a099ba-58d7-4e3c-d817-78692f8ed112"
      },
      "outputs": [
        {
          "name": "stdout",
          "output_type": "stream",
          "text": [
            "(271116, 14)\n"
          ]
        }
      ],
      "source": [
        "print(df.shape) # now there should be one less column"
      ]
    },
    {
      "cell_type": "code",
      "execution_count": 63,
      "id": "4ec4aff2",
      "metadata": {},
      "outputs": [
        {
          "name": "stdout",
          "output_type": "stream",
          "text": [
            "<class 'pandas.core.frame.DataFrame'>\n",
            "RangeIndex: 271116 entries, 0 to 271115\n",
            "Data columns (total 14 columns):\n",
            " #   Column  Non-Null Count   Dtype  \n",
            "---  ------  --------------   -----  \n",
            " 0   ID      271116 non-null  int64  \n",
            " 1   Name    271116 non-null  object \n",
            " 2   Sex     271116 non-null  object \n",
            " 3   Age     261642 non-null  float64\n",
            " 4   Height  210945 non-null  float64\n",
            " 5   Weight  208241 non-null  float64\n",
            " 6   Team    271116 non-null  object \n",
            " 7   NOC     271116 non-null  object \n",
            " 8   Year    271116 non-null  int64  \n",
            " 9   Season  271116 non-null  object \n",
            " 10  City    271116 non-null  object \n",
            " 11  Sport   271116 non-null  object \n",
            " 12  Event   271116 non-null  object \n",
            " 13  Medal   39783 non-null   object \n",
            "dtypes: float64(3), int64(2), object(9)\n",
            "memory usage: 29.0+ MB\n"
          ]
        }
      ],
      "source": [
        "df.info()"
      ]
    },
    {
      "cell_type": "markdown",
      "id": "607abef2",
      "metadata": {},
      "source": [
        "Find if there are duplicate values in the dataset"
      ]
    },
    {
      "cell_type": "code",
      "execution_count": null,
      "id": "665450b4",
      "metadata": {},
      "outputs": [
        {
          "data": {
            "text/plain": [
              "np.int64(1385)"
            ]
          },
          "execution_count": 69,
          "metadata": {},
          "output_type": "execute_result"
        }
      ],
      "source": [
        "df.duplicated().sum()"
      ]
    },
    {
      "cell_type": "code",
      "execution_count": 75,
      "id": "d717963f",
      "metadata": {},
      "outputs": [
        {
          "data": {
            "application/vnd.microsoft.datawrangler.viewer.v0+json": {
              "columns": [
                {
                  "name": "index",
                  "rawType": "int64",
                  "type": "integer"
                },
                {
                  "name": "ID",
                  "rawType": "int64",
                  "type": "integer"
                },
                {
                  "name": "Name",
                  "rawType": "object",
                  "type": "string"
                },
                {
                  "name": "Sex",
                  "rawType": "object",
                  "type": "string"
                },
                {
                  "name": "Age",
                  "rawType": "float64",
                  "type": "float"
                },
                {
                  "name": "Height",
                  "rawType": "float64",
                  "type": "float"
                },
                {
                  "name": "Weight",
                  "rawType": "float64",
                  "type": "float"
                },
                {
                  "name": "Team",
                  "rawType": "object",
                  "type": "string"
                },
                {
                  "name": "NOC",
                  "rawType": "object",
                  "type": "string"
                },
                {
                  "name": "Year",
                  "rawType": "int64",
                  "type": "integer"
                },
                {
                  "name": "Season",
                  "rawType": "object",
                  "type": "string"
                },
                {
                  "name": "City",
                  "rawType": "object",
                  "type": "string"
                },
                {
                  "name": "Sport",
                  "rawType": "object",
                  "type": "string"
                },
                {
                  "name": "Event",
                  "rawType": "object",
                  "type": "string"
                },
                {
                  "name": "Medal",
                  "rawType": "object",
                  "type": "unknown"
                }
              ],
              "conversionMethod": "pd.DataFrame",
              "ref": "a5491a72-b08a-4318-84c5-ae0eb4035cb0",
              "rows": [
                [
                  "1252",
                  "704",
                  "Dsir Antoine Acket",
                  "M",
                  "27.0",
                  null,
                  null,
                  "Belgium",
                  "BEL",
                  "1932",
                  "Summer",
                  "Los Angeles",
                  "Art Competitions",
                  "Art Competitions Mixed Painting, Unknown Event",
                  null
                ],
                [
                  "4282",
                  "2449",
                  "William Truman Aldrich",
                  "M",
                  "48.0",
                  null,
                  null,
                  "United States",
                  "USA",
                  "1928",
                  "Summer",
                  "Amsterdam",
                  "Art Competitions",
                  "Art Competitions Mixed Painting, Drawings And Water Colors",
                  null
                ],
                [
                  "4283",
                  "2449",
                  "William Truman Aldrich",
                  "M",
                  "48.0",
                  null,
                  null,
                  "United States",
                  "USA",
                  "1928",
                  "Summer",
                  "Amsterdam",
                  "Art Competitions",
                  "Art Competitions Mixed Painting, Drawings And Water Colors",
                  null
                ],
                [
                  "4862",
                  "2777",
                  "Hermann Reinhard Alker",
                  "M",
                  "43.0",
                  null,
                  null,
                  "Germany",
                  "GER",
                  "1928",
                  "Summer",
                  "Amsterdam",
                  "Art Competitions",
                  "Art Competitions Mixed Architecture, Designs For Town Planning",
                  null
                ],
                [
                  "4864",
                  "2777",
                  "Hermann Reinhard Alker",
                  "M",
                  "43.0",
                  null,
                  null,
                  "Germany",
                  "GER",
                  "1928",
                  "Summer",
                  "Amsterdam",
                  "Art Competitions",
                  "Art Competitions Mixed Architecture, Architectural Designs",
                  null
                ],
                [
                  "4867",
                  "2777",
                  "Hermann Reinhard Alker",
                  "M",
                  "51.0",
                  null,
                  null,
                  "Germany",
                  "GER",
                  "1936",
                  "Summer",
                  "Berlin",
                  "Art Competitions",
                  "Art Competitions Mixed Architecture, Unknown Event",
                  null
                ],
                [
                  "5105",
                  "2903",
                  "Lucien Charles Edouard Alliot",
                  "M",
                  "46.0",
                  null,
                  null,
                  "France",
                  "FRA",
                  "1924",
                  "Summer",
                  "Paris",
                  "Art Competitions",
                  "Art Competitions Mixed Sculpturing",
                  null
                ],
                [
                  "5106",
                  "2903",
                  "Lucien Charles Edouard Alliot",
                  "M",
                  "46.0",
                  null,
                  null,
                  "France",
                  "FRA",
                  "1924",
                  "Summer",
                  "Paris",
                  "Art Competitions",
                  "Art Competitions Mixed Sculpturing",
                  null
                ],
                [
                  "7770",
                  "4319",
                  "Ludwig Angerer",
                  "M",
                  "41.0",
                  null,
                  null,
                  "Germany",
                  "GER",
                  "1932",
                  "Summer",
                  "Los Angeles",
                  "Art Competitions",
                  "Art Competitions Mixed Painting, Unknown Event",
                  null
                ],
                [
                  "7771",
                  "4319",
                  "Ludwig Angerer",
                  "M",
                  "41.0",
                  null,
                  null,
                  "Germany",
                  "GER",
                  "1932",
                  "Summer",
                  "Los Angeles",
                  "Art Competitions",
                  "Art Competitions Mixed Painting, Unknown Event",
                  null
                ],
                [
                  "7772",
                  "4319",
                  "Ludwig Angerer",
                  "M",
                  "41.0",
                  null,
                  null,
                  "Germany",
                  "GER",
                  "1932",
                  "Summer",
                  "Los Angeles",
                  "Art Competitions",
                  "Art Competitions Mixed Painting, Unknown Event",
                  null
                ],
                [
                  "7774",
                  "4319",
                  "Ludwig Angerer",
                  "M",
                  "45.0",
                  null,
                  null,
                  "Germany",
                  "GER",
                  "1936",
                  "Summer",
                  "Berlin",
                  "Art Competitions",
                  "Art Competitions Mixed Painting, Unknown Event",
                  null
                ],
                [
                  "9366",
                  "5146",
                  "George Denholm Armour",
                  "M",
                  "64.0",
                  null,
                  null,
                  "Great Britain",
                  "GBR",
                  "1928",
                  "Summer",
                  "Amsterdam",
                  "Art Competitions",
                  "Art Competitions Mixed Painting, Paintings",
                  null
                ],
                [
                  "9367",
                  "5146",
                  "George Denholm Armour",
                  "M",
                  "64.0",
                  null,
                  null,
                  "Great Britain",
                  "GBR",
                  "1928",
                  "Summer",
                  "Amsterdam",
                  "Art Competitions",
                  "Art Competitions Mixed Painting, Paintings",
                  null
                ],
                [
                  "9368",
                  "5146",
                  "George Denholm Armour",
                  "M",
                  "64.0",
                  null,
                  null,
                  "Great Britain",
                  "GBR",
                  "1928",
                  "Summer",
                  "Amsterdam",
                  "Art Competitions",
                  "Art Competitions Mixed Painting, Paintings",
                  null
                ],
                [
                  "9370",
                  "5146",
                  "George Denholm Armour",
                  "M",
                  "68.0",
                  null,
                  null,
                  "Great Britain",
                  "GBR",
                  "1932",
                  "Summer",
                  "Los Angeles",
                  "Art Competitions",
                  "Art Competitions Mixed Painting, Unknown Event",
                  null
                ],
                [
                  "10282",
                  "5623",
                  "Konstantinos Aslanidis",
                  "M",
                  null,
                  null,
                  null,
                  "Greece",
                  "GRE",
                  "1948",
                  "Summer",
                  "London",
                  "Art Competitions",
                  "Art Competitions Mixed Architecture, Unknown Event",
                  null
                ],
                [
                  "10295",
                  "5634",
                  "Axel Edvin \"Acke\" slund",
                  "M",
                  "50.0",
                  null,
                  null,
                  "Sweden",
                  "SWE",
                  "1932",
                  "Summer",
                  "Los Angeles",
                  "Art Competitions",
                  "Art Competitions Mixed Painting, Unknown Event",
                  null
                ],
                [
                  "10867",
                  "5935",
                  "Andr Auffray",
                  "M",
                  "23.0",
                  null,
                  null,
                  "France",
                  "FRA",
                  "1908",
                  "Summer",
                  "London",
                  "Cycling",
                  "Cycling Men's Sprint",
                  null
                ],
                [
                  "11013",
                  "6016",
                  "Winifred Marie Louise Austen (-Frick)",
                  "F",
                  "72.0",
                  null,
                  null,
                  "Great Britain",
                  "GBR",
                  "1948",
                  "Summer",
                  "London",
                  "Art Competitions",
                  "Art Competitions Mixed Painting, Unknown Event",
                  null
                ],
                [
                  "11797",
                  "6437",
                  "August Babberger",
                  "M",
                  "50.0",
                  null,
                  null,
                  "Germany",
                  "GER",
                  "1936",
                  "Summer",
                  "Berlin",
                  "Art Competitions",
                  "Art Competitions Mixed Painting, Unknown Event",
                  null
                ],
                [
                  "12639",
                  "6883",
                  "William James \"Bill\" Bailey",
                  "M",
                  "20.0",
                  null,
                  null,
                  "Great Britain",
                  "GBR",
                  "1908",
                  "Summer",
                  "London",
                  "Cycling",
                  "Cycling Men's Sprint",
                  null
                ],
                [
                  "12727",
                  "6929",
                  "Flix Pierre Victor Bailly",
                  "M",
                  "43.0",
                  null,
                  null,
                  "France",
                  "FRA",
                  "1932",
                  "Summer",
                  "Los Angeles",
                  "Art Competitions",
                  "Art Competitions Mixed Architecture, Unknown Event",
                  null
                ],
                [
                  "13017",
                  "7082",
                  "Wolter Bakker",
                  "M",
                  "47.0",
                  null,
                  null,
                  "Netherlands",
                  "NED",
                  "1936",
                  "Summer",
                  "Berlin",
                  "Art Competitions",
                  "Art Competitions Mixed Architecture, Architectural Designs",
                  null
                ],
                [
                  "13018",
                  "7082",
                  "Wolter Bakker",
                  "M",
                  "47.0",
                  null,
                  null,
                  "Netherlands",
                  "NED",
                  "1936",
                  "Summer",
                  "Berlin",
                  "Art Competitions",
                  "Art Competitions Mixed Architecture, Architectural Designs",
                  null
                ],
                [
                  "13019",
                  "7082",
                  "Wolter Bakker",
                  "M",
                  "47.0",
                  null,
                  null,
                  "Netherlands",
                  "NED",
                  "1936",
                  "Summer",
                  "Berlin",
                  "Art Competitions",
                  "Art Competitions Mixed Architecture, Architectural Designs",
                  null
                ],
                [
                  "13020",
                  "7082",
                  "Wolter Bakker",
                  "M",
                  "47.0",
                  null,
                  null,
                  "Netherlands",
                  "NED",
                  "1936",
                  "Summer",
                  "Berlin",
                  "Art Competitions",
                  "Art Competitions Mixed Architecture, Architectural Designs",
                  null
                ],
                [
                  "13222",
                  "7176",
                  "Ferdinand Balcrek",
                  "M",
                  "43.0",
                  null,
                  null,
                  "Czechoslovakia",
                  "TCH",
                  "1948",
                  "Summer",
                  "London",
                  "Art Competitions",
                  "Art Competitions Mixed Architecture, Unknown Event",
                  null
                ],
                [
                  "13645",
                  "7384",
                  "Ernst Balser",
                  "M",
                  "38.0",
                  null,
                  null,
                  "Germany",
                  "GER",
                  "1932",
                  "Summer",
                  "Los Angeles",
                  "Art Competitions",
                  "Art Competitions Mixed Architecture, Unknown Event",
                  null
                ],
                [
                  "13680",
                  "7404",
                  "Jean-Ado Baltus",
                  "M",
                  "14.0",
                  null,
                  null,
                  "Belgium",
                  "BEL",
                  "1932",
                  "Summer",
                  "Los Angeles",
                  "Art Competitions",
                  "Art Competitions Mixed Painting, Unknown Event",
                  null
                ],
                [
                  "13681",
                  "7404",
                  "Jean-Ado Baltus",
                  "M",
                  "14.0",
                  null,
                  null,
                  "Belgium",
                  "BEL",
                  "1932",
                  "Summer",
                  "Los Angeles",
                  "Art Competitions",
                  "Art Competitions Mixed Painting, Unknown Event",
                  null
                ],
                [
                  "13682",
                  "7404",
                  "Jean-Ado Baltus",
                  "M",
                  "14.0",
                  null,
                  null,
                  "Belgium",
                  "BEL",
                  "1932",
                  "Summer",
                  "Los Angeles",
                  "Art Competitions",
                  "Art Competitions Mixed Painting, Unknown Event",
                  null
                ],
                [
                  "13713",
                  "7426",
                  "George A. Bamber",
                  "M",
                  null,
                  null,
                  null,
                  "Great Britain",
                  "GBR",
                  "1924",
                  "Summer",
                  "Paris",
                  "Art Competitions",
                  "Art Competitions Mixed Painting",
                  null
                ],
                [
                  "13714",
                  "7426",
                  "George A. Bamber",
                  "M",
                  null,
                  null,
                  null,
                  "Great Britain",
                  "GBR",
                  "1924",
                  "Summer",
                  "Paris",
                  "Art Competitions",
                  "Art Competitions Mixed Painting",
                  null
                ],
                [
                  "14841",
                  "8009",
                  "R. G. P. Baron",
                  "M",
                  null,
                  null,
                  null,
                  "France",
                  "FRA",
                  "1924",
                  "Summer",
                  "Paris",
                  "Art Competitions",
                  "Art Competitions Mixed Painting",
                  null
                ],
                [
                  "15040",
                  "8115",
                  "Jean Louis Charles Joseph Barrez",
                  "M",
                  null,
                  null,
                  null,
                  "France",
                  "FRA",
                  "1928",
                  "Summer",
                  "Amsterdam",
                  "Art Competitions",
                  "Art Competitions Mixed Painting, Paintings",
                  null
                ],
                [
                  "15041",
                  "8115",
                  "Jean Louis Charles Joseph Barrez",
                  "M",
                  null,
                  null,
                  null,
                  "France",
                  "FRA",
                  "1928",
                  "Summer",
                  "Amsterdam",
                  "Art Competitions",
                  "Art Competitions Mixed Painting, Paintings",
                  null
                ],
                [
                  "15042",
                  "8115",
                  "Jean Louis Charles Joseph Barrez",
                  "M",
                  null,
                  null,
                  null,
                  "France",
                  "FRA",
                  "1928",
                  "Summer",
                  "Amsterdam",
                  "Art Competitions",
                  "Art Competitions Mixed Painting, Paintings",
                  null
                ],
                [
                  "15043",
                  "8115",
                  "Jean Louis Charles Joseph Barrez",
                  "M",
                  null,
                  null,
                  null,
                  "France",
                  "FRA",
                  "1928",
                  "Summer",
                  "Amsterdam",
                  "Art Competitions",
                  "Art Competitions Mixed Painting, Paintings",
                  null
                ],
                [
                  "15044",
                  "8115",
                  "Jean Louis Charles Joseph Barrez",
                  "M",
                  null,
                  null,
                  null,
                  "France",
                  "FRA",
                  "1928",
                  "Summer",
                  "Amsterdam",
                  "Art Competitions",
                  "Art Competitions Mixed Painting, Paintings",
                  null
                ],
                [
                  "15427",
                  "8317",
                  "Luigi Bartolini",
                  "M",
                  "56.0",
                  null,
                  null,
                  "Italy",
                  "ITA",
                  "1948",
                  "Summer",
                  "London",
                  "Art Competitions",
                  "Art Competitions Mixed Painting, Graphic Arts",
                  null
                ],
                [
                  "15546",
                  "8378",
                  "Franz Barwig",
                  "M",
                  "60.0",
                  null,
                  null,
                  "Austria",
                  "AUT",
                  "1928",
                  "Summer",
                  "Amsterdam",
                  "Art Competitions",
                  "Art Competitions Mixed Sculpturing, Statues",
                  null
                ],
                [
                  "15547",
                  "8378",
                  "Franz Barwig",
                  "M",
                  "60.0",
                  null,
                  null,
                  "Austria",
                  "AUT",
                  "1928",
                  "Summer",
                  "Amsterdam",
                  "Art Competitions",
                  "Art Competitions Mixed Sculpturing, Statues",
                  null
                ],
                [
                  "15851",
                  "8547",
                  "Henry Mayo Bateman",
                  "M",
                  "41.0",
                  null,
                  null,
                  "Great Britain",
                  "GBR",
                  "1928",
                  "Summer",
                  "Amsterdam",
                  "Art Competitions",
                  "Art Competitions Mixed Painting, Drawings And Water Colors",
                  null
                ],
                [
                  "16341",
                  "8778",
                  "Friedrich Wilhelm \"Willi\" Baumeister",
                  "M",
                  "39.0",
                  null,
                  null,
                  "Germany",
                  "GER",
                  "1928",
                  "Summer",
                  "Amsterdam",
                  "Art Competitions",
                  "Art Competitions Mixed Painting, Paintings",
                  null
                ],
                [
                  "16347",
                  "8781",
                  "Lewis Christopher Edward Baumer",
                  "M",
                  "57.0",
                  null,
                  null,
                  "Great Britain",
                  "GBR",
                  "1928",
                  "Summer",
                  "Amsterdam",
                  "Art Competitions",
                  "Art Competitions Mixed Painting, Drawings And Water Colors",
                  null
                ],
                [
                  "16348",
                  "8781",
                  "Lewis Christopher Edward Baumer",
                  "M",
                  "57.0",
                  null,
                  null,
                  "Great Britain",
                  "GBR",
                  "1928",
                  "Summer",
                  "Amsterdam",
                  "Art Competitions",
                  "Art Competitions Mixed Painting, Drawings And Water Colors",
                  null
                ],
                [
                  "16350",
                  "8781",
                  "Lewis Christopher Edward Baumer",
                  "M",
                  "61.0",
                  null,
                  null,
                  "Great Britain",
                  "GBR",
                  "1932",
                  "Summer",
                  "Los Angeles",
                  "Art Competitions",
                  "Art Competitions Mixed Painting, Unknown Event",
                  null
                ],
                [
                  "16351",
                  "8781",
                  "Lewis Christopher Edward Baumer",
                  "M",
                  "61.0",
                  null,
                  null,
                  "Great Britain",
                  "GBR",
                  "1932",
                  "Summer",
                  "Los Angeles",
                  "Art Competitions",
                  "Art Competitions Mixed Painting, Unknown Event",
                  null
                ],
                [
                  "16352",
                  "8781",
                  "Lewis Christopher Edward Baumer",
                  "M",
                  "61.0",
                  null,
                  null,
                  "Great Britain",
                  "GBR",
                  "1932",
                  "Summer",
                  "Los Angeles",
                  "Art Competitions",
                  "Art Competitions Mixed Painting, Unknown Event",
                  null
                ]
              ],
              "shape": {
                "columns": 14,
                "rows": 1385
              }
            },
            "text/html": [
              "<div>\n",
              "<style scoped>\n",
              "    .dataframe tbody tr th:only-of-type {\n",
              "        vertical-align: middle;\n",
              "    }\n",
              "\n",
              "    .dataframe tbody tr th {\n",
              "        vertical-align: top;\n",
              "    }\n",
              "\n",
              "    .dataframe thead th {\n",
              "        text-align: right;\n",
              "    }\n",
              "</style>\n",
              "<table border=\"1\" class=\"dataframe\">\n",
              "  <thead>\n",
              "    <tr style=\"text-align: right;\">\n",
              "      <th></th>\n",
              "      <th>ID</th>\n",
              "      <th>Name</th>\n",
              "      <th>Sex</th>\n",
              "      <th>Age</th>\n",
              "      <th>Height</th>\n",
              "      <th>Weight</th>\n",
              "      <th>Team</th>\n",
              "      <th>NOC</th>\n",
              "      <th>Year</th>\n",
              "      <th>Season</th>\n",
              "      <th>City</th>\n",
              "      <th>Sport</th>\n",
              "      <th>Event</th>\n",
              "      <th>Medal</th>\n",
              "    </tr>\n",
              "  </thead>\n",
              "  <tbody>\n",
              "    <tr>\n",
              "      <th>1252</th>\n",
              "      <td>704</td>\n",
              "      <td>Dsir Antoine Acket</td>\n",
              "      <td>M</td>\n",
              "      <td>27.0</td>\n",
              "      <td>NaN</td>\n",
              "      <td>NaN</td>\n",
              "      <td>Belgium</td>\n",
              "      <td>BEL</td>\n",
              "      <td>1932</td>\n",
              "      <td>Summer</td>\n",
              "      <td>Los Angeles</td>\n",
              "      <td>Art Competitions</td>\n",
              "      <td>Art Competitions Mixed Painting, Unknown Event</td>\n",
              "      <td>NaN</td>\n",
              "    </tr>\n",
              "    <tr>\n",
              "      <th>4282</th>\n",
              "      <td>2449</td>\n",
              "      <td>William Truman Aldrich</td>\n",
              "      <td>M</td>\n",
              "      <td>48.0</td>\n",
              "      <td>NaN</td>\n",
              "      <td>NaN</td>\n",
              "      <td>United States</td>\n",
              "      <td>USA</td>\n",
              "      <td>1928</td>\n",
              "      <td>Summer</td>\n",
              "      <td>Amsterdam</td>\n",
              "      <td>Art Competitions</td>\n",
              "      <td>Art Competitions Mixed Painting, Drawings And ...</td>\n",
              "      <td>NaN</td>\n",
              "    </tr>\n",
              "    <tr>\n",
              "      <th>4283</th>\n",
              "      <td>2449</td>\n",
              "      <td>William Truman Aldrich</td>\n",
              "      <td>M</td>\n",
              "      <td>48.0</td>\n",
              "      <td>NaN</td>\n",
              "      <td>NaN</td>\n",
              "      <td>United States</td>\n",
              "      <td>USA</td>\n",
              "      <td>1928</td>\n",
              "      <td>Summer</td>\n",
              "      <td>Amsterdam</td>\n",
              "      <td>Art Competitions</td>\n",
              "      <td>Art Competitions Mixed Painting, Drawings And ...</td>\n",
              "      <td>NaN</td>\n",
              "    </tr>\n",
              "    <tr>\n",
              "      <th>4862</th>\n",
              "      <td>2777</td>\n",
              "      <td>Hermann Reinhard Alker</td>\n",
              "      <td>M</td>\n",
              "      <td>43.0</td>\n",
              "      <td>NaN</td>\n",
              "      <td>NaN</td>\n",
              "      <td>Germany</td>\n",
              "      <td>GER</td>\n",
              "      <td>1928</td>\n",
              "      <td>Summer</td>\n",
              "      <td>Amsterdam</td>\n",
              "      <td>Art Competitions</td>\n",
              "      <td>Art Competitions Mixed Architecture, Designs F...</td>\n",
              "      <td>NaN</td>\n",
              "    </tr>\n",
              "    <tr>\n",
              "      <th>4864</th>\n",
              "      <td>2777</td>\n",
              "      <td>Hermann Reinhard Alker</td>\n",
              "      <td>M</td>\n",
              "      <td>43.0</td>\n",
              "      <td>NaN</td>\n",
              "      <td>NaN</td>\n",
              "      <td>Germany</td>\n",
              "      <td>GER</td>\n",
              "      <td>1928</td>\n",
              "      <td>Summer</td>\n",
              "      <td>Amsterdam</td>\n",
              "      <td>Art Competitions</td>\n",
              "      <td>Art Competitions Mixed Architecture, Architect...</td>\n",
              "      <td>NaN</td>\n",
              "    </tr>\n",
              "    <tr>\n",
              "      <th>...</th>\n",
              "      <td>...</td>\n",
              "      <td>...</td>\n",
              "      <td>...</td>\n",
              "      <td>...</td>\n",
              "      <td>...</td>\n",
              "      <td>...</td>\n",
              "      <td>...</td>\n",
              "      <td>...</td>\n",
              "      <td>...</td>\n",
              "      <td>...</td>\n",
              "      <td>...</td>\n",
              "      <td>...</td>\n",
              "      <td>...</td>\n",
              "      <td>...</td>\n",
              "    </tr>\n",
              "    <tr>\n",
              "      <th>269994</th>\n",
              "      <td>135072</td>\n",
              "      <td>Anna Katrina Zinkeisen (-Heseltine)</td>\n",
              "      <td>F</td>\n",
              "      <td>46.0</td>\n",
              "      <td>NaN</td>\n",
              "      <td>NaN</td>\n",
              "      <td>Great Britain</td>\n",
              "      <td>GBR</td>\n",
              "      <td>1948</td>\n",
              "      <td>Summer</td>\n",
              "      <td>London</td>\n",
              "      <td>Art Competitions</td>\n",
              "      <td>Art Competitions Mixed Painting, Paintings</td>\n",
              "      <td>NaN</td>\n",
              "    </tr>\n",
              "    <tr>\n",
              "      <th>269995</th>\n",
              "      <td>135072</td>\n",
              "      <td>Anna Katrina Zinkeisen (-Heseltine)</td>\n",
              "      <td>F</td>\n",
              "      <td>46.0</td>\n",
              "      <td>NaN</td>\n",
              "      <td>NaN</td>\n",
              "      <td>Great Britain</td>\n",
              "      <td>GBR</td>\n",
              "      <td>1948</td>\n",
              "      <td>Summer</td>\n",
              "      <td>London</td>\n",
              "      <td>Art Competitions</td>\n",
              "      <td>Art Competitions Mixed Painting, Paintings</td>\n",
              "      <td>NaN</td>\n",
              "    </tr>\n",
              "    <tr>\n",
              "      <th>269997</th>\n",
              "      <td>135072</td>\n",
              "      <td>Anna Katrina Zinkeisen (-Heseltine)</td>\n",
              "      <td>F</td>\n",
              "      <td>46.0</td>\n",
              "      <td>NaN</td>\n",
              "      <td>NaN</td>\n",
              "      <td>Great Britain</td>\n",
              "      <td>GBR</td>\n",
              "      <td>1948</td>\n",
              "      <td>Summer</td>\n",
              "      <td>London</td>\n",
              "      <td>Art Competitions</td>\n",
              "      <td>Art Competitions Mixed Painting, Unknown Event</td>\n",
              "      <td>NaN</td>\n",
              "    </tr>\n",
              "    <tr>\n",
              "      <th>269999</th>\n",
              "      <td>135073</td>\n",
              "      <td>Doris Clare Zinkeisen (-Johnstone)</td>\n",
              "      <td>F</td>\n",
              "      <td>49.0</td>\n",
              "      <td>NaN</td>\n",
              "      <td>NaN</td>\n",
              "      <td>Great Britain</td>\n",
              "      <td>GBR</td>\n",
              "      <td>1948</td>\n",
              "      <td>Summer</td>\n",
              "      <td>London</td>\n",
              "      <td>Art Competitions</td>\n",
              "      <td>Art Competitions Mixed Painting, Unknown Event</td>\n",
              "      <td>NaN</td>\n",
              "    </tr>\n",
              "    <tr>\n",
              "      <th>270200</th>\n",
              "      <td>135173</td>\n",
              "      <td>Henri Achille Zo</td>\n",
              "      <td>M</td>\n",
              "      <td>58.0</td>\n",
              "      <td>NaN</td>\n",
              "      <td>NaN</td>\n",
              "      <td>France</td>\n",
              "      <td>FRA</td>\n",
              "      <td>1932</td>\n",
              "      <td>Summer</td>\n",
              "      <td>Los Angeles</td>\n",
              "      <td>Art Competitions</td>\n",
              "      <td>Art Competitions Mixed Painting, Unknown Event</td>\n",
              "      <td>NaN</td>\n",
              "    </tr>\n",
              "  </tbody>\n",
              "</table>\n",
              "<p>1385 rows × 14 columns</p>\n",
              "</div>"
            ],
            "text/plain": [
              "            ID                                 Name Sex   Age  Height  Weight  \\\n",
              "1252       704                   Dsir Antoine Acket   M  27.0     NaN     NaN   \n",
              "4282      2449               William Truman Aldrich   M  48.0     NaN     NaN   \n",
              "4283      2449               William Truman Aldrich   M  48.0     NaN     NaN   \n",
              "4862      2777               Hermann Reinhard Alker   M  43.0     NaN     NaN   \n",
              "4864      2777               Hermann Reinhard Alker   M  43.0     NaN     NaN   \n",
              "...        ...                                  ...  ..   ...     ...     ...   \n",
              "269994  135072  Anna Katrina Zinkeisen (-Heseltine)   F  46.0     NaN     NaN   \n",
              "269995  135072  Anna Katrina Zinkeisen (-Heseltine)   F  46.0     NaN     NaN   \n",
              "269997  135072  Anna Katrina Zinkeisen (-Heseltine)   F  46.0     NaN     NaN   \n",
              "269999  135073   Doris Clare Zinkeisen (-Johnstone)   F  49.0     NaN     NaN   \n",
              "270200  135173                     Henri Achille Zo   M  58.0     NaN     NaN   \n",
              "\n",
              "                 Team  NOC  Year  Season         City             Sport  \\\n",
              "1252          Belgium  BEL  1932  Summer  Los Angeles  Art Competitions   \n",
              "4282    United States  USA  1928  Summer    Amsterdam  Art Competitions   \n",
              "4283    United States  USA  1928  Summer    Amsterdam  Art Competitions   \n",
              "4862          Germany  GER  1928  Summer    Amsterdam  Art Competitions   \n",
              "4864          Germany  GER  1928  Summer    Amsterdam  Art Competitions   \n",
              "...               ...  ...   ...     ...          ...               ...   \n",
              "269994  Great Britain  GBR  1948  Summer       London  Art Competitions   \n",
              "269995  Great Britain  GBR  1948  Summer       London  Art Competitions   \n",
              "269997  Great Britain  GBR  1948  Summer       London  Art Competitions   \n",
              "269999  Great Britain  GBR  1948  Summer       London  Art Competitions   \n",
              "270200         France  FRA  1932  Summer  Los Angeles  Art Competitions   \n",
              "\n",
              "                                                    Event Medal  \n",
              "1252       Art Competitions Mixed Painting, Unknown Event   NaN  \n",
              "4282    Art Competitions Mixed Painting, Drawings And ...   NaN  \n",
              "4283    Art Competitions Mixed Painting, Drawings And ...   NaN  \n",
              "4862    Art Competitions Mixed Architecture, Designs F...   NaN  \n",
              "4864    Art Competitions Mixed Architecture, Architect...   NaN  \n",
              "...                                                   ...   ...  \n",
              "269994         Art Competitions Mixed Painting, Paintings   NaN  \n",
              "269995         Art Competitions Mixed Painting, Paintings   NaN  \n",
              "269997     Art Competitions Mixed Painting, Unknown Event   NaN  \n",
              "269999     Art Competitions Mixed Painting, Unknown Event   NaN  \n",
              "270200     Art Competitions Mixed Painting, Unknown Event   NaN  \n",
              "\n",
              "[1385 rows x 14 columns]"
            ]
          },
          "execution_count": 75,
          "metadata": {},
          "output_type": "execute_result"
        }
      ],
      "source": [
        "df[df.duplicated()]"
      ]
    },
    {
      "cell_type": "markdown",
      "id": "ef07980f",
      "metadata": {},
      "source": [
        "Drop all duplicate values"
      ]
    },
    {
      "cell_type": "code",
      "execution_count": 76,
      "id": "61da039b",
      "metadata": {},
      "outputs": [],
      "source": [
        "df.drop_duplicates(inplace = True)"
      ]
    },
    {
      "cell_type": "markdown",
      "id": "3yg9obGQZiiw",
      "metadata": {
        "id": "3yg9obGQZiiw"
      },
      "source": [
        "# Getting an overview of the data"
      ]
    },
    {
      "cell_type": "code",
      "execution_count": 77,
      "id": "a2197d91",
      "metadata": {},
      "outputs": [
        {
          "data": {
            "application/vnd.microsoft.datawrangler.viewer.v0+json": {
              "columns": [
                {
                  "name": "index",
                  "rawType": "int64",
                  "type": "integer"
                },
                {
                  "name": "ID",
                  "rawType": "int64",
                  "type": "integer"
                },
                {
                  "name": "Name",
                  "rawType": "object",
                  "type": "string"
                },
                {
                  "name": "Sex",
                  "rawType": "object",
                  "type": "string"
                },
                {
                  "name": "Age",
                  "rawType": "float64",
                  "type": "float"
                },
                {
                  "name": "Height",
                  "rawType": "float64",
                  "type": "float"
                },
                {
                  "name": "Weight",
                  "rawType": "float64",
                  "type": "float"
                },
                {
                  "name": "Team",
                  "rawType": "object",
                  "type": "string"
                },
                {
                  "name": "NOC",
                  "rawType": "object",
                  "type": "string"
                },
                {
                  "name": "Year",
                  "rawType": "int64",
                  "type": "integer"
                },
                {
                  "name": "Season",
                  "rawType": "object",
                  "type": "string"
                },
                {
                  "name": "City",
                  "rawType": "object",
                  "type": "string"
                },
                {
                  "name": "Sport",
                  "rawType": "object",
                  "type": "string"
                },
                {
                  "name": "Event",
                  "rawType": "object",
                  "type": "string"
                },
                {
                  "name": "Medal",
                  "rawType": "object",
                  "type": "unknown"
                }
              ],
              "conversionMethod": "pd.DataFrame",
              "ref": "50d9f70b-c918-43e0-b6b6-ace116ef70d9",
              "rows": [
                [
                  "0",
                  "1",
                  "A Dijiang",
                  "M",
                  "24.0",
                  "180.0",
                  "80.0",
                  "China",
                  "CHN",
                  "1992",
                  "Summer",
                  "Barcelona",
                  "Basketball",
                  "Basketball Men's Basketball",
                  null
                ],
                [
                  "1",
                  "2",
                  "A Lamusi",
                  "M",
                  "23.0",
                  "170.0",
                  "60.0",
                  "China",
                  "CHN",
                  "2012",
                  "Summer",
                  "London",
                  "Judo",
                  "Judo Men's Extra-Lightweight",
                  null
                ],
                [
                  "2",
                  "3",
                  "Gunnar Nielsen Aaby",
                  "M",
                  "24.0",
                  null,
                  null,
                  "Denmark",
                  "DEN",
                  "1920",
                  "Summer",
                  "Antwerpen",
                  "Football",
                  "Football Men's Football",
                  null
                ],
                [
                  "3",
                  "4",
                  "Edgar Lindenau Aabye",
                  "M",
                  "34.0",
                  null,
                  null,
                  "Denmark/Sweden",
                  "DEN",
                  "1900",
                  "Summer",
                  "Paris",
                  "Tug-Of-War",
                  "Tug-Of-War Men's Tug-Of-War",
                  "Gold"
                ],
                [
                  "4",
                  "5",
                  "Christine Jacoba Aaftink",
                  "F",
                  "21.0",
                  "185.0",
                  "82.0",
                  "Netherlands",
                  "NED",
                  "1988",
                  "Winter",
                  "Calgary",
                  "Speed Skating",
                  "Speed Skating Women's 500 metres",
                  null
                ]
              ],
              "shape": {
                "columns": 14,
                "rows": 5
              }
            },
            "text/html": [
              "<div>\n",
              "<style scoped>\n",
              "    .dataframe tbody tr th:only-of-type {\n",
              "        vertical-align: middle;\n",
              "    }\n",
              "\n",
              "    .dataframe tbody tr th {\n",
              "        vertical-align: top;\n",
              "    }\n",
              "\n",
              "    .dataframe thead th {\n",
              "        text-align: right;\n",
              "    }\n",
              "</style>\n",
              "<table border=\"1\" class=\"dataframe\">\n",
              "  <thead>\n",
              "    <tr style=\"text-align: right;\">\n",
              "      <th></th>\n",
              "      <th>ID</th>\n",
              "      <th>Name</th>\n",
              "      <th>Sex</th>\n",
              "      <th>Age</th>\n",
              "      <th>Height</th>\n",
              "      <th>Weight</th>\n",
              "      <th>Team</th>\n",
              "      <th>NOC</th>\n",
              "      <th>Year</th>\n",
              "      <th>Season</th>\n",
              "      <th>City</th>\n",
              "      <th>Sport</th>\n",
              "      <th>Event</th>\n",
              "      <th>Medal</th>\n",
              "    </tr>\n",
              "  </thead>\n",
              "  <tbody>\n",
              "    <tr>\n",
              "      <th>0</th>\n",
              "      <td>1</td>\n",
              "      <td>A Dijiang</td>\n",
              "      <td>M</td>\n",
              "      <td>24.0</td>\n",
              "      <td>180.0</td>\n",
              "      <td>80.0</td>\n",
              "      <td>China</td>\n",
              "      <td>CHN</td>\n",
              "      <td>1992</td>\n",
              "      <td>Summer</td>\n",
              "      <td>Barcelona</td>\n",
              "      <td>Basketball</td>\n",
              "      <td>Basketball Men's Basketball</td>\n",
              "      <td>NaN</td>\n",
              "    </tr>\n",
              "    <tr>\n",
              "      <th>1</th>\n",
              "      <td>2</td>\n",
              "      <td>A Lamusi</td>\n",
              "      <td>M</td>\n",
              "      <td>23.0</td>\n",
              "      <td>170.0</td>\n",
              "      <td>60.0</td>\n",
              "      <td>China</td>\n",
              "      <td>CHN</td>\n",
              "      <td>2012</td>\n",
              "      <td>Summer</td>\n",
              "      <td>London</td>\n",
              "      <td>Judo</td>\n",
              "      <td>Judo Men's Extra-Lightweight</td>\n",
              "      <td>NaN</td>\n",
              "    </tr>\n",
              "    <tr>\n",
              "      <th>2</th>\n",
              "      <td>3</td>\n",
              "      <td>Gunnar Nielsen Aaby</td>\n",
              "      <td>M</td>\n",
              "      <td>24.0</td>\n",
              "      <td>NaN</td>\n",
              "      <td>NaN</td>\n",
              "      <td>Denmark</td>\n",
              "      <td>DEN</td>\n",
              "      <td>1920</td>\n",
              "      <td>Summer</td>\n",
              "      <td>Antwerpen</td>\n",
              "      <td>Football</td>\n",
              "      <td>Football Men's Football</td>\n",
              "      <td>NaN</td>\n",
              "    </tr>\n",
              "    <tr>\n",
              "      <th>3</th>\n",
              "      <td>4</td>\n",
              "      <td>Edgar Lindenau Aabye</td>\n",
              "      <td>M</td>\n",
              "      <td>34.0</td>\n",
              "      <td>NaN</td>\n",
              "      <td>NaN</td>\n",
              "      <td>Denmark/Sweden</td>\n",
              "      <td>DEN</td>\n",
              "      <td>1900</td>\n",
              "      <td>Summer</td>\n",
              "      <td>Paris</td>\n",
              "      <td>Tug-Of-War</td>\n",
              "      <td>Tug-Of-War Men's Tug-Of-War</td>\n",
              "      <td>Gold</td>\n",
              "    </tr>\n",
              "    <tr>\n",
              "      <th>4</th>\n",
              "      <td>5</td>\n",
              "      <td>Christine Jacoba Aaftink</td>\n",
              "      <td>F</td>\n",
              "      <td>21.0</td>\n",
              "      <td>185.0</td>\n",
              "      <td>82.0</td>\n",
              "      <td>Netherlands</td>\n",
              "      <td>NED</td>\n",
              "      <td>1988</td>\n",
              "      <td>Winter</td>\n",
              "      <td>Calgary</td>\n",
              "      <td>Speed Skating</td>\n",
              "      <td>Speed Skating Women's 500 metres</td>\n",
              "      <td>NaN</td>\n",
              "    </tr>\n",
              "  </tbody>\n",
              "</table>\n",
              "</div>"
            ],
            "text/plain": [
              "   ID                      Name Sex   Age  Height  Weight            Team  \\\n",
              "0   1                 A Dijiang   M  24.0   180.0    80.0           China   \n",
              "1   2                  A Lamusi   M  23.0   170.0    60.0           China   \n",
              "2   3       Gunnar Nielsen Aaby   M  24.0     NaN     NaN         Denmark   \n",
              "3   4      Edgar Lindenau Aabye   M  34.0     NaN     NaN  Denmark/Sweden   \n",
              "4   5  Christine Jacoba Aaftink   F  21.0   185.0    82.0     Netherlands   \n",
              "\n",
              "   NOC  Year  Season       City          Sport  \\\n",
              "0  CHN  1992  Summer  Barcelona     Basketball   \n",
              "1  CHN  2012  Summer     London           Judo   \n",
              "2  DEN  1920  Summer  Antwerpen       Football   \n",
              "3  DEN  1900  Summer      Paris     Tug-Of-War   \n",
              "4  NED  1988  Winter    Calgary  Speed Skating   \n",
              "\n",
              "                              Event Medal  \n",
              "0       Basketball Men's Basketball   NaN  \n",
              "1      Judo Men's Extra-Lightweight   NaN  \n",
              "2           Football Men's Football   NaN  \n",
              "3       Tug-Of-War Men's Tug-Of-War  Gold  \n",
              "4  Speed Skating Women's 500 metres   NaN  "
            ]
          },
          "execution_count": 77,
          "metadata": {},
          "output_type": "execute_result"
        }
      ],
      "source": [
        "df.head()"
      ]
    },
    {
      "cell_type": "code",
      "execution_count": 78,
      "id": "5bdd4ec8",
      "metadata": {},
      "outputs": [
        {
          "data": {
            "application/vnd.microsoft.datawrangler.viewer.v0+json": {
              "columns": [
                {
                  "name": "index",
                  "rawType": "object",
                  "type": "string"
                },
                {
                  "name": "ID",
                  "rawType": "float64",
                  "type": "float"
                },
                {
                  "name": "Age",
                  "rawType": "float64",
                  "type": "float"
                },
                {
                  "name": "Height",
                  "rawType": "float64",
                  "type": "float"
                },
                {
                  "name": "Weight",
                  "rawType": "float64",
                  "type": "float"
                },
                {
                  "name": "Year",
                  "rawType": "float64",
                  "type": "float"
                }
              ],
              "conversionMethod": "pd.DataFrame",
              "ref": "6b8ba691-f8a2-44c5-a2fd-2e0cfb70cee5",
              "rows": [
                [
                  "count",
                  "269731.0",
                  "260416.0",
                  "210917.0",
                  "208204.0",
                  "269731.0"
                ],
                [
                  "mean",
                  "68264.94959051796",
                  "25.454776204227084",
                  "175.33895323752947",
                  "70.70177806382202",
                  "1978.6230726167923"
                ],
                [
                  "std",
                  "39026.253842695274",
                  "6.163869347297238",
                  "10.518507401800257",
                  "14.34902673111687",
                  "29.75205495910148"
                ],
                [
                  "min",
                  "1.0",
                  "10.0",
                  "127.0",
                  "25.0",
                  "1896.0"
                ],
                [
                  "25%",
                  "34655.5",
                  "21.0",
                  "168.0",
                  "60.0",
                  "1960.0"
                ],
                [
                  "50%",
                  "68233.0",
                  "24.0",
                  "175.0",
                  "70.0",
                  "1988.0"
                ],
                [
                  "75%",
                  "102111.0",
                  "28.0",
                  "183.0",
                  "79.0",
                  "2002.0"
                ],
                [
                  "max",
                  "135571.0",
                  "97.0",
                  "226.0",
                  "214.0",
                  "2016.0"
                ]
              ],
              "shape": {
                "columns": 5,
                "rows": 8
              }
            },
            "text/html": [
              "<div>\n",
              "<style scoped>\n",
              "    .dataframe tbody tr th:only-of-type {\n",
              "        vertical-align: middle;\n",
              "    }\n",
              "\n",
              "    .dataframe tbody tr th {\n",
              "        vertical-align: top;\n",
              "    }\n",
              "\n",
              "    .dataframe thead th {\n",
              "        text-align: right;\n",
              "    }\n",
              "</style>\n",
              "<table border=\"1\" class=\"dataframe\">\n",
              "  <thead>\n",
              "    <tr style=\"text-align: right;\">\n",
              "      <th></th>\n",
              "      <th>ID</th>\n",
              "      <th>Age</th>\n",
              "      <th>Height</th>\n",
              "      <th>Weight</th>\n",
              "      <th>Year</th>\n",
              "    </tr>\n",
              "  </thead>\n",
              "  <tbody>\n",
              "    <tr>\n",
              "      <th>count</th>\n",
              "      <td>269731.000000</td>\n",
              "      <td>260416.000000</td>\n",
              "      <td>210917.000000</td>\n",
              "      <td>208204.000000</td>\n",
              "      <td>269731.000000</td>\n",
              "    </tr>\n",
              "    <tr>\n",
              "      <th>mean</th>\n",
              "      <td>68264.949591</td>\n",
              "      <td>25.454776</td>\n",
              "      <td>175.338953</td>\n",
              "      <td>70.701778</td>\n",
              "      <td>1978.623073</td>\n",
              "    </tr>\n",
              "    <tr>\n",
              "      <th>std</th>\n",
              "      <td>39026.253843</td>\n",
              "      <td>6.163869</td>\n",
              "      <td>10.518507</td>\n",
              "      <td>14.349027</td>\n",
              "      <td>29.752055</td>\n",
              "    </tr>\n",
              "    <tr>\n",
              "      <th>min</th>\n",
              "      <td>1.000000</td>\n",
              "      <td>10.000000</td>\n",
              "      <td>127.000000</td>\n",
              "      <td>25.000000</td>\n",
              "      <td>1896.000000</td>\n",
              "    </tr>\n",
              "    <tr>\n",
              "      <th>25%</th>\n",
              "      <td>34655.500000</td>\n",
              "      <td>21.000000</td>\n",
              "      <td>168.000000</td>\n",
              "      <td>60.000000</td>\n",
              "      <td>1960.000000</td>\n",
              "    </tr>\n",
              "    <tr>\n",
              "      <th>50%</th>\n",
              "      <td>68233.000000</td>\n",
              "      <td>24.000000</td>\n",
              "      <td>175.000000</td>\n",
              "      <td>70.000000</td>\n",
              "      <td>1988.000000</td>\n",
              "    </tr>\n",
              "    <tr>\n",
              "      <th>75%</th>\n",
              "      <td>102111.000000</td>\n",
              "      <td>28.000000</td>\n",
              "      <td>183.000000</td>\n",
              "      <td>79.000000</td>\n",
              "      <td>2002.000000</td>\n",
              "    </tr>\n",
              "    <tr>\n",
              "      <th>max</th>\n",
              "      <td>135571.000000</td>\n",
              "      <td>97.000000</td>\n",
              "      <td>226.000000</td>\n",
              "      <td>214.000000</td>\n",
              "      <td>2016.000000</td>\n",
              "    </tr>\n",
              "  </tbody>\n",
              "</table>\n",
              "</div>"
            ],
            "text/plain": [
              "                  ID            Age         Height         Weight  \\\n",
              "count  269731.000000  260416.000000  210917.000000  208204.000000   \n",
              "mean    68264.949591      25.454776     175.338953      70.701778   \n",
              "std     39026.253843       6.163869      10.518507      14.349027   \n",
              "min         1.000000      10.000000     127.000000      25.000000   \n",
              "25%     34655.500000      21.000000     168.000000      60.000000   \n",
              "50%     68233.000000      24.000000     175.000000      70.000000   \n",
              "75%    102111.000000      28.000000     183.000000      79.000000   \n",
              "max    135571.000000      97.000000     226.000000     214.000000   \n",
              "\n",
              "                Year  \n",
              "count  269731.000000  \n",
              "mean     1978.623073  \n",
              "std        29.752055  \n",
              "min      1896.000000  \n",
              "25%      1960.000000  \n",
              "50%      1988.000000  \n",
              "75%      2002.000000  \n",
              "max      2016.000000  "
            ]
          },
          "execution_count": 78,
          "metadata": {},
          "output_type": "execute_result"
        }
      ],
      "source": [
        "df.describe()"
      ]
    },
    {
      "cell_type": "markdown",
      "id": "b9159533",
      "metadata": {},
      "source": [
        "## Find missing values and deal with them"
      ]
    },
    {
      "cell_type": "code",
      "execution_count": 79,
      "id": "a485209f",
      "metadata": {},
      "outputs": [
        {
          "data": {
            "text/plain": [
              "<Axes: >"
            ]
          },
          "execution_count": 79,
          "metadata": {},
          "output_type": "execute_result"
        },
        {
          "data": {
            "image/png": "[encoded data removed]",
            "text/plain": [
              "<Figure size 640x480 with 1 Axes>"
            ]
          },
          "metadata": {},
          "output_type": "display_data"
        }
      ],
      "source": [
        "sns.heatmap(df.isnull(), cbar=False)"
      ]
    },
    {
      "cell_type": "markdown",
      "id": "99a35663",
      "metadata": {},
      "source": [
        "There are missing values in the following columns: \n",
        "- Age (not so many)\n",
        "- Height\n",
        "- Weight\n",
        "- Medal (many)\n",
        "\n",
        "Any missing value in the Medal column is an athlete participating in the olympic games who does not win a medal"
      ]
    },
    {
      "cell_type": "code",
      "execution_count": null,
      "id": "84ece392",
      "metadata": {},
      "outputs": [],
      "source": [
        "df['Age'] = df['Age'].fillna(df['Age'].mean(), )\n",
        "df['Height'] = df['Height'].fillna(df['Height'].mean(), )\n",
        "df['Weight'] = df['Weight'].fillna(df['Weight'].mean(), )"
      ]
    },
    {
      "cell_type": "code",
      "execution_count": 50,
      "id": "3342725d",
      "metadata": {},
      "outputs": [
        {
          "name": "stdout",
          "output_type": "stream",
          "text": [
            "ID             0\n",
            "Name           0\n",
            "Sex            0\n",
            "Age            0\n",
            "Height         0\n",
            "Weight         0\n",
            "Team           0\n",
            "NOC            0\n",
            "Year           0\n",
            "Season         0\n",
            "City           0\n",
            "Sport          0\n",
            "Event          0\n",
            "Medal     231333\n",
            "dtype: int64\n"
          ]
        }
      ],
      "source": [
        "missing_values_count = df.isnull().sum()\n",
        "print(missing_values_count)"
      ]
    },
    {
      "cell_type": "markdown",
      "id": "356404a9",
      "metadata": {},
      "source": [
        "Now there are no more missing values for Age, Heigth and Weight. "
      ]
    },
    {
      "cell_type": "markdown",
      "id": "u1HHZ8HGY1Od",
      "metadata": {
        "id": "u1HHZ8HGY1Od"
      },
      "source": [
        "Get an overview of the number of values in the dataset"
      ]
    },
    {
      "cell_type": "code",
      "execution_count": 8,
      "id": "a1b78644",
      "metadata": {
        "colab": {
          "base_uri": "https://localhost:8080/",
          "height": 523
        },
        "collapsed": true,
        "id": "a1b78644",
        "outputId": "721e98b6-5fbe-4c03-c6a3-ba4a9738d6a3"
      },
      "outputs": [
        {
          "data": {
            "text/plain": [
              "ID        271116\n",
              "Name      271116\n",
              "Sex       271116\n",
              "Age       261642\n",
              "Height    210945\n",
              "Weight    208241\n",
              "Team      271116\n",
              "NOC       271116\n",
              "Year      271116\n",
              "Season    271116\n",
              "City      271116\n",
              "Sport     271116\n",
              "Event     271116\n",
              "Medal      39783\n",
              "dtype: int64"
            ]
          },
          "execution_count": 8,
          "metadata": {},
          "output_type": "execute_result"
        }
      ],
      "source": [
        "df.count()"
      ]
    },
    {
      "cell_type": "markdown",
      "id": "qxjn5T7VY9bK",
      "metadata": {
        "id": "qxjn5T7VY9bK"
      },
      "source": [
        "See how many missing values are there in the dataset."
      ]
    },
    {
      "cell_type": "code",
      "execution_count": 9,
      "id": "97e67edd",
      "metadata": {
        "colab": {
          "base_uri": "https://localhost:8080/"
        },
        "collapsed": true,
        "id": "97e67edd",
        "outputId": "aef8cb27-4088-4970-ed39-7b29a4b4fe88"
      },
      "outputs": [
        {
          "name": "stdout",
          "output_type": "stream",
          "text": [
            "ID             0\n",
            "Name           0\n",
            "Sex            0\n",
            "Age         9474\n",
            "Height     60171\n",
            "Weight     62875\n",
            "Team           0\n",
            "NOC            0\n",
            "Year           0\n",
            "Season         0\n",
            "City           0\n",
            "Sport          0\n",
            "Event          0\n",
            "Medal     231333\n",
            "dtype: int64\n"
          ]
        }
      ],
      "source": [
        "print(df.isnull().sum())"
      ]
    },
    {
      "cell_type": "code",
      "execution_count": 87,
      "id": "3e1ff1e3",
      "metadata": {
        "colab": {
          "base_uri": "https://localhost:8080/",
          "height": 466
        },
        "collapsed": true,
        "id": "3e1ff1e3",
        "outputId": "00a0d56c-00c9-4b0d-89a1-1131b91c28c1"
      },
      "outputs": [
        {
          "data": {
            "text/plain": [
              "<Axes: xlabel='Age'>"
            ]
          },
          "execution_count": 87,
          "metadata": {},
          "output_type": "execute_result"
        },
        {
          "data": {
            "image/png": "[encoded data removed]",
            "text/plain": [
              "<Figure size 640x480 with 1 Axes>"
            ]
          },
          "metadata": {},
          "output_type": "display_data"
        }
      ],
      "source": [
        "sns.violinplot(x=df[\"Age\"])"
      ]
    },
    {
      "cell_type": "code",
      "execution_count": 88,
      "id": "e11c8f87",
      "metadata": {},
      "outputs": [
        {
          "data": {
            "text/plain": [
              "<Axes: xlabel='Age'>"
            ]
          },
          "execution_count": 88,
          "metadata": {},
          "output_type": "execute_result"
        },
        {
          "data": {
            "image/png": "[encoded data removed]",
            "text/plain": [
              "<Figure size 640x480 with 1 Axes>"
            ]
          },
          "metadata": {},
          "output_type": "display_data"
        }
      ],
      "source": [
        "sns.boxplot(x=df[\"Age\"])"
      ]
    },
    {
      "cell_type": "markdown",
      "id": "657d4518",
      "metadata": {},
      "source": [
        "Print an overview of the ages."
      ]
    },
    {
      "cell_type": "code",
      "execution_count": 86,
      "id": "6dd61a69",
      "metadata": {},
      "outputs": [
        {
          "name": "stdout",
          "output_type": "stream",
          "text": [
            "134732 unique athletes\n",
            "66 unique sports\n",
            "Summary statistics for Age:\n",
            " count    260416.000000\n",
            "mean         25.454776\n",
            "std           6.163869\n",
            "min          10.000000\n",
            "25%          21.000000\n",
            "50%          24.000000\n",
            "75%          28.000000\n",
            "max          97.000000\n",
            "Name: Age, dtype: float64\n"
          ]
        }
      ],
      "source": [
        "print(df['Name'].nunique(), \"unique athletes\")  # Unique athletes\n",
        "print(df['Sport'].nunique(), \"unique sports\")  # Unique sports\n",
        "print(\"Summary statistics for Age:\\n\", df['Age'].describe())  # Summary stats for age\n"
      ]
    },
    {
      "cell_type": "markdown",
      "id": "a1ea9397",
      "metadata": {},
      "source": [
        "Distribution of Athletes by Gender"
      ]
    },
    {
      "cell_type": "code",
      "execution_count": 96,
      "id": "4ca5594c",
      "metadata": {},
      "outputs": [
        {
          "data": {
            "text/plain": [
              "<Axes: title={'center': 'Athlete Gender Distribution'}, xlabel='Sex'>"
            ]
          },
          "execution_count": 96,
          "metadata": {},
          "output_type": "execute_result"
        },
        {
          "data": {
            "image/png": "[encoded data removed]",
            "text/plain": [
              "<Figure size 640x480 with 1 Axes>"
            ]
          },
          "metadata": {},
          "output_type": "display_data"
        }
      ],
      "source": [
        "df.Sex.value_counts().plot(kind='bar', title = \"Athlete Gender Distribution\", color = ['tab:blue', 'tab:red'], grid=True)"
      ]
    },
    {
      "cell_type": "markdown",
      "id": "6d5e6e9d",
      "metadata": {},
      "source": [
        "Most popular sports"
      ]
    },
    {
      "cell_type": "code",
      "execution_count": 106,
      "id": "4fbd1108",
      "metadata": {},
      "outputs": [
        {
          "data": {
            "text/plain": [
              "<Axes: title={'center': 'Top 10 most popular Sports'}, ylabel='Sport'>"
            ]
          },
          "execution_count": 107,
          "metadata": {},
          "output_type": "execute_result"
        },
        {
          "data": {
            "image/png": "[encoded data removed]",
            "text/plain": [
              "<Figure size 640x480 with 1 Axes>"
            ]
          },
          "metadata": {},
          "output_type": "display_data"
        }
      ],
      "source": [
        "df.Sport.value_counts().head(10).plot(kind = 'barh', title = \"Top 10 most popular Sports\",)"
      ]
    },
    {
      "cell_type": "markdown",
      "id": "0b2fc60d",
      "metadata": {},
      "source": [
        "Getting an overview of the medals"
      ]
    },
    {
      "cell_type": "code",
      "execution_count": 113,
      "id": "047ab976",
      "metadata": {
        "colab": {
          "base_uri": "https://localhost:8080/",
          "height": 466
        },
        "collapsed": true,
        "id": "047ab976",
        "outputId": "d072b599-8e6d-48d7-ebd8-70f20c7add92"
      },
      "outputs": [
        {
          "name": "stderr",
          "output_type": "stream",
          "text": [
            "c:\\Users\\julia\\anaconda3\\envs\\athletes_env\\Lib\\site-packages\\seaborn\\_oldcore.py:1119: FutureWarning: use_inf_as_na option is deprecated and will be removed in a future version. Convert inf values to NaN before operating instead.\n",
            "  with pd.option_context('mode.use_inf_as_na', True):\n",
            "c:\\Users\\julia\\anaconda3\\envs\\athletes_env\\Lib\\site-packages\\seaborn\\_oldcore.py:1075: FutureWarning: When grouping with a length-1 list-like, you will need to pass a length-1 tuple to get_group in a future version of pandas. Pass `(name,)` instead of `name` to silence this warning.\n",
            "  data_subset = grouped_data.get_group(pd_key)\n",
            "c:\\Users\\julia\\anaconda3\\envs\\athletes_env\\Lib\\site-packages\\seaborn\\_oldcore.py:1075: FutureWarning: When grouping with a length-1 list-like, you will need to pass a length-1 tuple to get_group in a future version of pandas. Pass `(name,)` instead of `name` to silence this warning.\n",
            "  data_subset = grouped_data.get_group(pd_key)\n",
            "c:\\Users\\julia\\anaconda3\\envs\\athletes_env\\Lib\\site-packages\\seaborn\\_oldcore.py:1075: FutureWarning: When grouping with a length-1 list-like, you will need to pass a length-1 tuple to get_group in a future version of pandas. Pass `(name,)` instead of `name` to silence this warning.\n",
            "  data_subset = grouped_data.get_group(pd_key)\n",
            "c:\\Users\\julia\\anaconda3\\envs\\athletes_env\\Lib\\site-packages\\seaborn\\_oldcore.py:1075: FutureWarning: When grouping with a length-1 list-like, you will need to pass a length-1 tuple to get_group in a future version of pandas. Pass `(name,)` instead of `name` to silence this warning.\n",
            "  data_subset = grouped_data.get_group(pd_key)\n",
            "c:\\Users\\julia\\anaconda3\\envs\\athletes_env\\Lib\\site-packages\\seaborn\\_oldcore.py:1075: FutureWarning: When grouping with a length-1 list-like, you will need to pass a length-1 tuple to get_group in a future version of pandas. Pass `(name,)` instead of `name` to silence this warning.\n",
            "  data_subset = grouped_data.get_group(pd_key)\n"
          ]
        },
        {
          "data": {
            "text/plain": [
              "<Axes: xlabel='Age', ylabel='Count'>"
            ]
          },
          "execution_count": 113,
          "metadata": {},
          "output_type": "execute_result"
        },
        {
          "data": {
            "image/png": "[encoded data removed]",
            "text/plain": [
              "<Figure size 640x480 with 1 Axes>"
            ]
          },
          "metadata": {},
          "output_type": "display_data"
        }
      ],
      "source": [
        "sns.histplot(df, x = \"Age\", hue = \"Medal\", hue_order=(\"Gold\", \"Silver\", \"Bronze\", ), multiple = \"stack\")"
      ]
    },
    {
      "cell_type": "code",
      "execution_count": 114,
      "id": "4RZ4PIEax0jY",
      "metadata": {
        "colab": {
          "base_uri": "https://localhost:8080/",
          "height": 564
        },
        "collapsed": true,
        "id": "4RZ4PIEax0jY",
        "outputId": "f46454b5-b7ce-4ea4-c043-84578645c09f"
      },
      "outputs": [
        {
          "name": "stderr",
          "output_type": "stream",
          "text": [
            "c:\\Users\\julia\\anaconda3\\envs\\athletes_env\\Lib\\site-packages\\seaborn\\_oldcore.py:1119: FutureWarning: use_inf_as_na option is deprecated and will be removed in a future version. Convert inf values to NaN before operating instead.\n",
            "  with pd.option_context('mode.use_inf_as_na', True):\n",
            "c:\\Users\\julia\\anaconda3\\envs\\athletes_env\\Lib\\site-packages\\seaborn\\_oldcore.py:1075: FutureWarning: When grouping with a length-1 list-like, you will need to pass a length-1 tuple to get_group in a future version of pandas. Pass `(name,)` instead of `name` to silence this warning.\n",
            "  data_subset = grouped_data.get_group(pd_key)\n",
            "c:\\Users\\julia\\anaconda3\\envs\\athletes_env\\Lib\\site-packages\\seaborn\\_oldcore.py:1075: FutureWarning: When grouping with a length-1 list-like, you will need to pass a length-1 tuple to get_group in a future version of pandas. Pass `(name,)` instead of `name` to silence this warning.\n",
            "  data_subset = grouped_data.get_group(pd_key)\n",
            "c:\\Users\\julia\\anaconda3\\envs\\athletes_env\\Lib\\site-packages\\seaborn\\_oldcore.py:1075: FutureWarning: When grouping with a length-1 list-like, you will need to pass a length-1 tuple to get_group in a future version of pandas. Pass `(name,)` instead of `name` to silence this warning.\n",
            "  data_subset = grouped_data.get_group(pd_key)\n",
            "c:\\Users\\julia\\anaconda3\\envs\\athletes_env\\Lib\\site-packages\\seaborn\\_oldcore.py:1075: FutureWarning: When grouping with a length-1 list-like, you will need to pass a length-1 tuple to get_group in a future version of pandas. Pass `(name,)` instead of `name` to silence this warning.\n",
            "  data_subset = grouped_data.get_group(pd_key)\n",
            "c:\\Users\\julia\\anaconda3\\envs\\athletes_env\\Lib\\site-packages\\seaborn\\_oldcore.py:1075: FutureWarning: When grouping with a length-1 list-like, you will need to pass a length-1 tuple to get_group in a future version of pandas. Pass `(name,)` instead of `name` to silence this warning.\n",
            "  data_subset = grouped_data.get_group(pd_key)\n"
          ]
        },
        {
          "data": {
            "image/png": "[encoded data removed]",
            "text/plain": [
              "<Figure size 1200x600 with 1 Axes>"
            ]
          },
          "metadata": {},
          "output_type": "display_data"
        }
      ],
      "source": [
        "plt.figure(figsize=(12, 6))\n",
        "sns.histplot(df, x=\"Age\", hue=\"Medal\", multiple=\"dodge\", palette={\"Gold\": \"gold\", \"Silver\": \"silver\", \"Bronze\": \"brown\"}, shrink = 2)\n",
        "plt.title('Number of Medals per Age Group')\n",
        "plt.xlabel('Age')\n",
        "plt.ylabel('Number of Medals')\n",
        "plt.ticklabel_format(style=\"scientific\", )\n",
        "plt.tick_params(\"x\")\n",
        "plt.show()"
      ]
    },
    {
      "cell_type": "markdown",
      "id": "bEc--DO1vx21",
      "metadata": {
        "id": "bEc--DO1vx21"
      },
      "source": [
        "Some pivot tests"
      ]
    },
    {
      "cell_type": "markdown",
      "id": "738e2aa5",
      "metadata": {},
      "source": [
        "Show the mean age for each year"
      ]
    },
    {
      "cell_type": "code",
      "execution_count": 12,
      "id": "dQtlZyHLGDVX",
      "metadata": {
        "colab": {
          "base_uri": "https://localhost:8080/",
          "height": 523
        },
        "collapsed": true,
        "id": "dQtlZyHLGDVX",
        "outputId": "7502d158-30e1-4478-f6dd-009b19f7bd97"
      },
      "outputs": [
        {
          "data": {
            "text/plain": [
              "<Axes: title={'center': 'Mean Age of Athletes per Year'}, xlabel='Year', ylabel='Mean Age'>"
            ]
          },
          "execution_count": 12,
          "metadata": {},
          "output_type": "execute_result"
        },
        {
          "data": {
            "image/png": "[encoded data removed]",
            "text/plain": [
              "<Figure size 5000x500 with 1 Axes>"
            ]
          },
          "metadata": {},
          "output_type": "display_data"
        }
      ],
      "source": [
        "mean_age = df.pivot_table(\n",
        "    index = 'Year',\n",
        "    values = 'Age',\n",
        "    aggfunc = 'mean')\n",
        "\n",
        "mean_age.plot(\n",
        "    kind = \"bar\",\n",
        "    figsize = (50, 5),\n",
        "    color = 'blue',\n",
        "    title=\"Mean Age of Athletes per Year\",\n",
        "    xlabel = \"Year\",\n",
        "    ylabel = \"Mean Age\",)\n",
        "\n",
        "## To do: age change per year"
      ]
    },
    {
      "cell_type": "code",
      "execution_count": null,
      "id": "1ca8c122",
      "metadata": {},
      "outputs": [],
      "source": []
    },
    {
      "cell_type": "code",
      "execution_count": 13,
      "id": "916387ac",
      "metadata": {
        "colab": {
          "base_uri": "https://localhost:8080/",
          "height": 218
        },
        "collapsed": true,
        "id": "916387ac",
        "outputId": "2bf7f7de-c368-417b-ce93-298cdcf1273b"
      },
      "outputs": [
        {
          "data": {
            "text/plain": [
              "<Axes: xlabel='Age'>"
            ]
          },
          "execution_count": 13,
          "metadata": {},
          "output_type": "execute_result"
        },
        {
          "data": {
            "image/png": "[encoded data removed]",
            "text/plain": [
              "<Figure size 5000x500 with 1 Axes>"
            ]
          },
          "metadata": {},
          "output_type": "display_data"
        }
      ],
      "source": [
        "pivot_medals = df.pivot_table(\n",
        "    index = 'Age',\n",
        "    columns = 'Medal',\n",
        "    values = 'ID',\n",
        "    aggfunc = 'sum',\n",
        "    fill_value = 0)\n",
        "\n",
        "pivot_medals.plot(\n",
        "    kind = \"bar\",\n",
        "    stacked = False,\n",
        "    figsize = (50, 5),\n",
        "    color = ['brown', 'gold', 'silver'],\n",
        "    )"
      ]
    },
    {
      "cell_type": "markdown",
      "id": "NXsRTkX-HiTs",
      "metadata": {
        "id": "NXsRTkX-HiTs"
      },
      "source": [
        "Country-wise grouping"
      ]
    },
    {
      "cell_type": "code",
      "execution_count": 14,
      "id": "o7bE4P8AHlWY",
      "metadata": {
        "id": "o7bE4P8AHlWY"
      },
      "outputs": [
        {
          "data": {
            "text/plain": [
              "Team\n",
              "30. Februar                2\n",
              "A North American Team      4\n",
              "Acipactli                  3\n",
              "Acturus                    2\n",
              "Afghanistan              126\n",
              "                        ... \n",
              "Zambia                   183\n",
              "Zefyros                    2\n",
              "Zimbabwe                 309\n",
              "Zut                        3\n",
              "rn-2                       5\n",
              "Name: Team, Length: 1184, dtype: int64"
            ]
          },
          "execution_count": 14,
          "metadata": {},
          "output_type": "execute_result"
        }
      ],
      "source": [
        "\n",
        "df.groupby(\"Team\")[\"Team\"].count()"
      ]
    },
    {
      "cell_type": "markdown",
      "id": "bd741b37",
      "metadata": {},
      "source": [
        "One has to watch out when working with the data grouped by countries. The Team-column is in most cases the country name. But for example in Equestrianism, the team-column contains the name of the horse. So depending on how the analysis is planned, it might be useful to overwrite the values in the team-column with the country names that can be gained from the NOC-column (National Olympics Comittee)"
      ]
    },
    {
      "cell_type": "code",
      "execution_count": null,
      "id": "eccbbfbc",
      "metadata": {},
      "outputs": [
        {
          "data": {
            "text/html": [
              "<div>\n",
              "<style scoped>\n",
              "    .dataframe tbody tr th:only-of-type {\n",
              "        vertical-align: middle;\n",
              "    }\n",
              "\n",
              "    .dataframe tbody tr th {\n",
              "        vertical-align: top;\n",
              "    }\n",
              "\n",
              "    .dataframe thead th {\n",
              "        text-align: right;\n",
              "    }\n",
              "</style>\n",
              "<table border=\"1\" class=\"dataframe\">\n",
              "  <thead>\n",
              "    <tr style=\"text-align: right;\">\n",
              "      <th></th>\n",
              "      <th>ID</th>\n",
              "      <th>Name</th>\n",
              "      <th>Sex</th>\n",
              "      <th>Age</th>\n",
              "      <th>Height</th>\n",
              "      <th>Weight</th>\n",
              "      <th>Team</th>\n",
              "      <th>NOC</th>\n",
              "      <th>Year</th>\n",
              "      <th>Season</th>\n",
              "      <th>City</th>\n",
              "      <th>Sport</th>\n",
              "      <th>Event</th>\n",
              "      <th>Medal</th>\n",
              "    </tr>\n",
              "  </thead>\n",
              "  <tbody>\n",
              "    <tr>\n",
              "      <th>264108</th>\n",
              "      <td>132159</td>\n",
              "      <td>Mieko Yagi</td>\n",
              "      <td>F</td>\n",
              "      <td>58.0</td>\n",
              "      <td>160.0</td>\n",
              "      <td>53.0</td>\n",
              "      <td>Dow Jones</td>\n",
              "      <td>JPN</td>\n",
              "      <td>2008</td>\n",
              "      <td>Summer</td>\n",
              "      <td>Beijing</td>\n",
              "      <td>Equestrianism</td>\n",
              "      <td>Equestrianism Mixed Dressage, Team</td>\n",
              "      <td>NaN</td>\n",
              "    </tr>\n",
              "  </tbody>\n",
              "</table>\n",
              "</div>"
            ],
            "text/plain": [
              "            ID        Name Sex   Age  Height  Weight       Team  NOC  Year  \\\n",
              "264108  132159  Mieko Yagi   F  58.0   160.0    53.0  Dow Jones  JPN  2008   \n",
              "\n",
              "        Season     City          Sport                               Event  \\\n",
              "264108  Summer  Beijing  Equestrianism  Equestrianism Mixed Dressage, Team   \n",
              "\n",
              "       Medal  \n",
              "264108   NaN  "
            ]
          },
          "execution_count": 31,
          "metadata": {},
          "output_type": "execute_result"
        }
      ],
      "source": [
        "# df.query('Team == \"30. Februar\"')\n",
        "df.query('Team == \"Dow Jones\"')"
      ]
    },
    {
      "cell_type": "code",
      "execution_count": 115,
      "metadata": {},
      "outputs": [
        {
          "data": {
            "text/plain": [
              "['CHN',\n",
              " 'DEN',\n",
              " 'NED',\n",
              " 'USA',\n",
              " 'FIN',\n",
              " 'NOR',\n",
              " 'ROU',\n",
              " 'EST',\n",
              " 'FRA',\n",
              " 'MAR',\n",
              " 'ESP',\n",
              " 'EGY',\n",
              " 'IRI',\n",
              " 'BUL',\n",
              " 'ITA',\n",
              " 'CHA',\n",
              " 'AZE',\n",
              " 'SUD',\n",
              " 'RUS',\n",
              " 'ARG',\n",
              " 'CUB',\n",
              " 'BLR',\n",
              " 'GRE',\n",
              " 'CMR',\n",
              " 'TUR',\n",
              " 'CHI',\n",
              " 'MEX',\n",
              " 'URS',\n",
              " 'NCA',\n",
              " 'HUN',\n",
              " 'NGR',\n",
              " 'ALG',\n",
              " 'KUW',\n",
              " 'BRN',\n",
              " 'PAK',\n",
              " 'IRQ',\n",
              " 'UAR',\n",
              " 'LIB',\n",
              " 'QAT',\n",
              " 'MAS',\n",
              " 'GER',\n",
              " 'CAN',\n",
              " 'IRL',\n",
              " 'AUS',\n",
              " 'RSA',\n",
              " 'ERI',\n",
              " 'TAN',\n",
              " 'JOR',\n",
              " 'TUN',\n",
              " 'LBA',\n",
              " 'BEL',\n",
              " 'DJI',\n",
              " 'PLE',\n",
              " 'COM',\n",
              " 'KAZ',\n",
              " 'BRU',\n",
              " 'IND',\n",
              " 'KSA',\n",
              " 'SYR',\n",
              " 'MDV',\n",
              " 'ETH',\n",
              " 'UAE',\n",
              " 'YAR',\n",
              " 'INA',\n",
              " 'PHI',\n",
              " 'SGP',\n",
              " 'UZB',\n",
              " 'KGZ',\n",
              " 'TJK',\n",
              " 'EUN',\n",
              " 'JPN',\n",
              " 'CGO',\n",
              " 'SUI',\n",
              " 'BRA',\n",
              " 'FRG',\n",
              " 'GDR',\n",
              " 'MON',\n",
              " 'ISR',\n",
              " 'URU',\n",
              " 'SWE',\n",
              " 'ISV',\n",
              " 'SRI',\n",
              " 'ARM',\n",
              " 'CIV',\n",
              " 'KEN',\n",
              " 'BEN',\n",
              " 'UKR',\n",
              " 'GBR',\n",
              " 'GHA',\n",
              " 'SOM',\n",
              " 'LAT',\n",
              " 'NIG',\n",
              " 'MLI',\n",
              " 'AFG',\n",
              " 'POL',\n",
              " 'CRC',\n",
              " 'PAN',\n",
              " 'GEO',\n",
              " 'SLO',\n",
              " 'CRO',\n",
              " 'GUY',\n",
              " 'NZL',\n",
              " 'POR',\n",
              " 'PAR',\n",
              " 'ANG',\n",
              " 'VEN',\n",
              " 'COL',\n",
              " 'BAN',\n",
              " 'PER',\n",
              " 'ESA',\n",
              " 'PUR',\n",
              " 'UGA',\n",
              " 'HON',\n",
              " 'ECU',\n",
              " 'TKM',\n",
              " 'MRI',\n",
              " 'SEY',\n",
              " 'TCH',\n",
              " 'LUX',\n",
              " 'MTN',\n",
              " 'CZE',\n",
              " 'SKN',\n",
              " 'TTO',\n",
              " 'DOM',\n",
              " 'VIN',\n",
              " 'JAM',\n",
              " 'LBR',\n",
              " 'SUR',\n",
              " 'NEP',\n",
              " 'MGL',\n",
              " 'AUT',\n",
              " 'PLW',\n",
              " 'LTU',\n",
              " 'TOG',\n",
              " 'NAM',\n",
              " 'AHO',\n",
              " 'ISL',\n",
              " 'ASA',\n",
              " 'SAM',\n",
              " 'RWA',\n",
              " 'DMA',\n",
              " 'HAI',\n",
              " 'MLT',\n",
              " 'CYP',\n",
              " 'GUI',\n",
              " 'BIZ',\n",
              " 'YMD',\n",
              " 'KOR',\n",
              " 'THA',\n",
              " 'BER',\n",
              " 'ANZ',\n",
              " 'SCG',\n",
              " 'SLE',\n",
              " 'PNG',\n",
              " 'YEM',\n",
              " 'IOA',\n",
              " 'OMA',\n",
              " 'FIJ',\n",
              " 'VAN',\n",
              " 'MDA',\n",
              " 'YUG',\n",
              " 'BAH',\n",
              " 'GUA',\n",
              " 'SRB',\n",
              " 'IVB',\n",
              " 'MOZ',\n",
              " 'CAF',\n",
              " 'MAD',\n",
              " 'MAL',\n",
              " 'BIH',\n",
              " 'GUM',\n",
              " 'CAY',\n",
              " 'SVK',\n",
              " 'BAR',\n",
              " 'GBS',\n",
              " 'TLS',\n",
              " 'COD',\n",
              " 'GAB',\n",
              " 'SMR',\n",
              " 'LAO',\n",
              " 'BOT',\n",
              " 'ROT',\n",
              " 'CAM',\n",
              " 'PRK',\n",
              " 'SOL',\n",
              " 'SEN',\n",
              " 'CPV',\n",
              " 'CRT',\n",
              " 'GEQ',\n",
              " 'BOL',\n",
              " 'SAA',\n",
              " 'AND',\n",
              " 'ANT',\n",
              " 'ZIM',\n",
              " 'GRN',\n",
              " 'HKG',\n",
              " 'LCA',\n",
              " 'FSM',\n",
              " 'MYA',\n",
              " 'MAW',\n",
              " 'ZAM',\n",
              " 'RHO',\n",
              " 'TPE',\n",
              " 'STP',\n",
              " 'MKD',\n",
              " 'BOH',\n",
              " 'TGA',\n",
              " 'LIE',\n",
              " 'MNE',\n",
              " 'GAM',\n",
              " 'COK',\n",
              " 'ALB',\n",
              " 'WIF',\n",
              " 'SWZ',\n",
              " 'BUR',\n",
              " 'NBO',\n",
              " 'BDI',\n",
              " 'ARU',\n",
              " 'NRU',\n",
              " 'VNM',\n",
              " 'VIE',\n",
              " 'BHU',\n",
              " 'MHL',\n",
              " 'KIR',\n",
              " 'UNK',\n",
              " 'TUV',\n",
              " 'NFL',\n",
              " 'KOS',\n",
              " 'SSD',\n",
              " 'LES']"
            ]
          },
          "execution_count": 115,
          "metadata": {},
          "output_type": "execute_result"
        }
      ],
      "source": [
        "[i for i in pd.unique(df.NOC)]"
      ]
    },
    {
      "cell_type": "markdown",
      "id": "78add0ee",
      "metadata": {},
      "source": []
    },
    {
      "cell_type": "code",
      "execution_count": 116,
      "id": "e9a466c1",
      "metadata": {},
      "outputs": [
        {
          "name": "stdout",
          "output_type": "stream",
          "text": [
            "NOC\n",
            "USA    18604\n",
            "FRA    12551\n",
            "GBR    12115\n",
            "ITA    10668\n",
            "GER     9734\n",
            "       ...  \n",
            "YMD        5\n",
            "SSD        3\n",
            "NBO        2\n",
            "UNK        2\n",
            "NFL        1\n",
            "Name: count, Length: 230, dtype: int64\n"
          ]
        }
      ],
      "source": [
        "VC_Team = df.NOC.value_counts()\n",
        "print(VC_Team)"
      ]
    },
    {
      "cell_type": "markdown",
      "id": "c24f47a9",
      "metadata": {},
      "source": [
        "Countries with most medals"
      ]
    },
    {
      "cell_type": "code",
      "execution_count": 124,
      "id": "11844383",
      "metadata": {},
      "outputs": [
        {
          "data": {
            "text/plain": [
              "NOC\n",
              "USA    5637\n",
              "URS    2503\n",
              "GER    2165\n",
              "GBR    2067\n",
              "FRA    1767\n",
              "ITA    1637\n",
              "SWE    1536\n",
              "CAN    1352\n",
              "AUS    1320\n",
              "RUS    1165\n",
              "Name: Medal, dtype: int64"
            ]
          },
          "execution_count": 124,
          "metadata": {},
          "output_type": "execute_result"
        }
      ],
      "source": [
        "df.groupby('NOC')[\"Medal\"].count().sort_values(ascending = False).head(10)"
      ]
    }
  ],
  "metadata": {
    "colab": {
      "include_colab_link": true,
      "provenance": [],
      "toc_visible": true
    },
    "kernelspec": {
      "display_name": "athletes_env",
      "language": "python",
      "name": "python3"
    },
    "language_info": {
      "codemirror_mode": {
        "name": "ipython",
        "version": 3
      },
      "file_extension": ".py",
      "mimetype": "text/x-python",
      "name": "python",
      "nbconvert_exporter": "python",
      "pygments_lexer": "ipython3",
      "version": "3.13.2"
    }
  },
  "nbformat": 4,
  "nbformat_minor": 5
}
